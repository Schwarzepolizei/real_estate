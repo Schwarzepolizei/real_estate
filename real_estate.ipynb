{
 "cells": [
  {
   "cell_type": "markdown",
   "metadata": {
    "id": "-VFbjcb3Awb7"
   },
   "source": [
    "# Исследование объявлений о продаже квартир\n",
    "\n",
    "В вашем распоряжении данные сервиса Яндекс Недвижимость — архив объявлений о продаже квартир в Санкт-Петербурге и соседних населённых пунктах за несколько лет. Вам нужно научиться определять рыночную стоимость объектов недвижимости. Для этого проведите исследовательский анализ данных и установите параметры, влияющие на цену объектов. Это позволит построить автоматизированную систему: она отследит аномалии и мошенническую деятельность.\n",
    "\n",
    "По каждой квартире на продажу доступны два вида данных. Первые вписаны пользователем, вторые — получены автоматически на основе картографических данных. Например, расстояние до центра, аэропорта и других объектов — эти данные автоматически получены из геосервисов. Количество парков и водоёмов также заполняется без участия пользователя."
   ]
  },
  {
   "cell_type": "markdown",
   "metadata": {},
   "source": [
    "# Цель исследования"
   ]
  },
  {
   "cell_type": "markdown",
   "metadata": {},
   "source": [
    "<h5>Цель исследования</h5>\n",
    "Определить рыночную стоимость объектов недвижимости, установив параметры, влияющие на цену объектов.\n",
    "Построить автоматизированную систему для отслеживания аномалий и мошеннической деятельности.\n",
    "\n",
    "<h5>Входные данные</h5>\n",
    "Данные сервиса Яндекс Недвижимость — архив объявлений о продаже квартир в Санкт-Петербурге и соседних населённых пунктах за несколько лет.\n",
    "(real_estate_data.csv)\n",
    "\n",
    "1. Пользовательские данные:\n",
    "   - Количество фотографий\n",
    "   - Цена недвижимости.\n",
    "   - Общая площадь.\n",
    "   - Первый день публикации объявления.\n",
    "   - Количество комнат.\n",
    "   - Высота потолков\n",
    "   - Общее количество этажей в доме.\n",
    "   - Жилая площадь. \n",
    "   - Этаж.\n",
    "   - Является ли апартаментами.\n",
    "   - Студия\n",
    "   - Свободная планировка\n",
    "   - Площадь кухни.\n",
    "   - Наличие балкона.\n",
    "   - Название населенного пункта.\n",
    "   \n",
    "\n",
    "3. Автоматически полученные данные:\n",
    "   - Расстояние до ближайшего аэропорта.\n",
    "   - Расстояние до центра города.\n",
    "   - Количество парков в радиусе 3000 метров.\n",
    "   - Расстояние до ближайшего парка.\n",
    "   - Количество водоемов в радиусе 3000 метров\n",
    "   - Расстояние до ближайшего водоёма.\n",
    "   - Количество дней публикации объявления.\n",
    "\n",
    "<h5>Ход исследования</h5>\n",
    "\n",
    "1. Обзор данных:\n",
    "   - Импортирование необходимых библиотек.\n",
    "   - Чтение файла с данными.\n",
    "   - Общий обзор информации.\n",
    "\n",
    "\n",
    "2. Предобработка данных:\n",
    "   - Приведение именования столбоц к общей стилистике.\n",
    "   - Проверка на пропущенные значения и их заполнение или удаление.\n",
    "   - Удаление дубликатов.\n",
    "   - Преобразование типов данных (например, приведение дат к единому формату).\n",
    "   - Обработка выбросов и аномалий (например, нереально высокие или низкие цены).\n",
    "   - Создание новых признаков, если это необходимо (например, соотношение жилой площади к общей).\n",
    "\n",
    "\n",
    "4. Исследовательский анализ данных (EDA):\n",
    "   - Анализ распределения целевой переменной (цены квартир).\n",
    "   - Исследование корреляции между признаками и ценой.\n",
    "   - Визуализация данных (гистограммы, boxplot, scatterplot и т.д.).\n",
    "   - Анализ влияния ключевых параметров на цену (например, площадь, количество комнат, расстояние до центра).\n",
    "   - Изучение географических данных (например, как цена зависит от расстояния до центра или наличия парков).\n",
    "\n",
    "\n",
    "5. Выявление аномалий:\n",
    "   - Поиск и анализ выбросов в данных (например, квартиры с необычно низкой или высокой ценой для своих характеристик).\n",
    "\n",
    "\n",
    "6. Формирование выводов:\n",
    "   - Определение ключевых факторов, влияющих на цену квартир."
   ]
  },
  {
   "cell_type": "markdown",
   "metadata": {
    "id": "aeFLH07FAwb9"
   },
   "source": [
    "# Обзор данных"
   ]
  },
  {
   "cell_type": "markdown",
   "metadata": {},
   "source": [
    "## Импортируем необходимые библиотеки."
   ]
  },
  {
   "cell_type": "code",
   "execution_count": 1,
   "metadata": {},
   "outputs": [],
   "source": [
    "import pandas as pd\n",
    "import numpy as np\n",
    "import matplotlib.pyplot as plt\n",
    "import seaborn as sns"
   ]
  },
  {
   "cell_type": "markdown",
   "metadata": {},
   "source": [
    "## Считаем данные из csv-файла в датафрейм"
   ]
  },
  {
   "cell_type": "code",
   "execution_count": 2,
   "metadata": {
    "id": "7MZxY65pAwb9"
   },
   "outputs": [],
   "source": [
    "import pandas as pd\n",
    "\n",
    "pd.set_option('display.max_columns', None)\n",
    "\n",
    "try:\n",
    "    data = pd.read_csv('/datasets/real_estate_data.csv', sep='\\t')\n",
    "except:\n",
    "    data = pd.read_csv('https://code.s3.yandex.net/datasets/real_estate_data.csv', sep='\\t')"
   ]
  },
  {
   "cell_type": "markdown",
   "metadata": {},
   "source": [
    "## Первые 10 строк датафрейма"
   ]
  },
  {
   "cell_type": "code",
   "execution_count": 3,
   "metadata": {},
   "outputs": [
    {
     "data": {
      "text/html": [
       "<div>\n",
       "<style scoped>\n",
       "    .dataframe tbody tr th:only-of-type {\n",
       "        vertical-align: middle;\n",
       "    }\n",
       "\n",
       "    .dataframe tbody tr th {\n",
       "        vertical-align: top;\n",
       "    }\n",
       "\n",
       "    .dataframe thead th {\n",
       "        text-align: right;\n",
       "    }\n",
       "</style>\n",
       "<table border=\"1\" class=\"dataframe\">\n",
       "  <thead>\n",
       "    <tr style=\"text-align: right;\">\n",
       "      <th></th>\n",
       "      <th>total_images</th>\n",
       "      <th>last_price</th>\n",
       "      <th>total_area</th>\n",
       "      <th>first_day_exposition</th>\n",
       "      <th>rooms</th>\n",
       "      <th>ceiling_height</th>\n",
       "      <th>floors_total</th>\n",
       "      <th>living_area</th>\n",
       "      <th>floor</th>\n",
       "      <th>is_apartment</th>\n",
       "      <th>studio</th>\n",
       "      <th>open_plan</th>\n",
       "      <th>kitchen_area</th>\n",
       "      <th>balcony</th>\n",
       "      <th>locality_name</th>\n",
       "      <th>airports_nearest</th>\n",
       "      <th>cityCenters_nearest</th>\n",
       "      <th>parks_around3000</th>\n",
       "      <th>parks_nearest</th>\n",
       "      <th>ponds_around3000</th>\n",
       "      <th>ponds_nearest</th>\n",
       "      <th>days_exposition</th>\n",
       "    </tr>\n",
       "  </thead>\n",
       "  <tbody>\n",
       "    <tr>\n",
       "      <th>0</th>\n",
       "      <td>20</td>\n",
       "      <td>13000000.0</td>\n",
       "      <td>108.00</td>\n",
       "      <td>2019-03-07T00:00:00</td>\n",
       "      <td>3</td>\n",
       "      <td>2.70</td>\n",
       "      <td>16.0</td>\n",
       "      <td>51.00</td>\n",
       "      <td>8</td>\n",
       "      <td>NaN</td>\n",
       "      <td>False</td>\n",
       "      <td>False</td>\n",
       "      <td>25.00</td>\n",
       "      <td>NaN</td>\n",
       "      <td>Санкт-Петербург</td>\n",
       "      <td>18863.0</td>\n",
       "      <td>16028.0</td>\n",
       "      <td>1.0</td>\n",
       "      <td>482.0</td>\n",
       "      <td>2.0</td>\n",
       "      <td>755.0</td>\n",
       "      <td>NaN</td>\n",
       "    </tr>\n",
       "    <tr>\n",
       "      <th>1</th>\n",
       "      <td>7</td>\n",
       "      <td>3350000.0</td>\n",
       "      <td>40.40</td>\n",
       "      <td>2018-12-04T00:00:00</td>\n",
       "      <td>1</td>\n",
       "      <td>NaN</td>\n",
       "      <td>11.0</td>\n",
       "      <td>18.60</td>\n",
       "      <td>1</td>\n",
       "      <td>NaN</td>\n",
       "      <td>False</td>\n",
       "      <td>False</td>\n",
       "      <td>11.00</td>\n",
       "      <td>2.0</td>\n",
       "      <td>посёлок Шушары</td>\n",
       "      <td>12817.0</td>\n",
       "      <td>18603.0</td>\n",
       "      <td>0.0</td>\n",
       "      <td>NaN</td>\n",
       "      <td>0.0</td>\n",
       "      <td>NaN</td>\n",
       "      <td>81.0</td>\n",
       "    </tr>\n",
       "    <tr>\n",
       "      <th>2</th>\n",
       "      <td>10</td>\n",
       "      <td>5196000.0</td>\n",
       "      <td>56.00</td>\n",
       "      <td>2015-08-20T00:00:00</td>\n",
       "      <td>2</td>\n",
       "      <td>NaN</td>\n",
       "      <td>5.0</td>\n",
       "      <td>34.30</td>\n",
       "      <td>4</td>\n",
       "      <td>NaN</td>\n",
       "      <td>False</td>\n",
       "      <td>False</td>\n",
       "      <td>8.30</td>\n",
       "      <td>0.0</td>\n",
       "      <td>Санкт-Петербург</td>\n",
       "      <td>21741.0</td>\n",
       "      <td>13933.0</td>\n",
       "      <td>1.0</td>\n",
       "      <td>90.0</td>\n",
       "      <td>2.0</td>\n",
       "      <td>574.0</td>\n",
       "      <td>558.0</td>\n",
       "    </tr>\n",
       "    <tr>\n",
       "      <th>3</th>\n",
       "      <td>0</td>\n",
       "      <td>64900000.0</td>\n",
       "      <td>159.00</td>\n",
       "      <td>2015-07-24T00:00:00</td>\n",
       "      <td>3</td>\n",
       "      <td>NaN</td>\n",
       "      <td>14.0</td>\n",
       "      <td>NaN</td>\n",
       "      <td>9</td>\n",
       "      <td>NaN</td>\n",
       "      <td>False</td>\n",
       "      <td>False</td>\n",
       "      <td>NaN</td>\n",
       "      <td>0.0</td>\n",
       "      <td>Санкт-Петербург</td>\n",
       "      <td>28098.0</td>\n",
       "      <td>6800.0</td>\n",
       "      <td>2.0</td>\n",
       "      <td>84.0</td>\n",
       "      <td>3.0</td>\n",
       "      <td>234.0</td>\n",
       "      <td>424.0</td>\n",
       "    </tr>\n",
       "    <tr>\n",
       "      <th>4</th>\n",
       "      <td>2</td>\n",
       "      <td>10000000.0</td>\n",
       "      <td>100.00</td>\n",
       "      <td>2018-06-19T00:00:00</td>\n",
       "      <td>2</td>\n",
       "      <td>3.03</td>\n",
       "      <td>14.0</td>\n",
       "      <td>32.00</td>\n",
       "      <td>13</td>\n",
       "      <td>NaN</td>\n",
       "      <td>False</td>\n",
       "      <td>False</td>\n",
       "      <td>41.00</td>\n",
       "      <td>NaN</td>\n",
       "      <td>Санкт-Петербург</td>\n",
       "      <td>31856.0</td>\n",
       "      <td>8098.0</td>\n",
       "      <td>2.0</td>\n",
       "      <td>112.0</td>\n",
       "      <td>1.0</td>\n",
       "      <td>48.0</td>\n",
       "      <td>121.0</td>\n",
       "    </tr>\n",
       "    <tr>\n",
       "      <th>5</th>\n",
       "      <td>10</td>\n",
       "      <td>2890000.0</td>\n",
       "      <td>30.40</td>\n",
       "      <td>2018-09-10T00:00:00</td>\n",
       "      <td>1</td>\n",
       "      <td>NaN</td>\n",
       "      <td>12.0</td>\n",
       "      <td>14.40</td>\n",
       "      <td>5</td>\n",
       "      <td>NaN</td>\n",
       "      <td>False</td>\n",
       "      <td>False</td>\n",
       "      <td>9.10</td>\n",
       "      <td>NaN</td>\n",
       "      <td>городской посёлок Янино-1</td>\n",
       "      <td>NaN</td>\n",
       "      <td>NaN</td>\n",
       "      <td>NaN</td>\n",
       "      <td>NaN</td>\n",
       "      <td>NaN</td>\n",
       "      <td>NaN</td>\n",
       "      <td>55.0</td>\n",
       "    </tr>\n",
       "    <tr>\n",
       "      <th>6</th>\n",
       "      <td>6</td>\n",
       "      <td>3700000.0</td>\n",
       "      <td>37.30</td>\n",
       "      <td>2017-11-02T00:00:00</td>\n",
       "      <td>1</td>\n",
       "      <td>NaN</td>\n",
       "      <td>26.0</td>\n",
       "      <td>10.60</td>\n",
       "      <td>6</td>\n",
       "      <td>NaN</td>\n",
       "      <td>False</td>\n",
       "      <td>False</td>\n",
       "      <td>14.40</td>\n",
       "      <td>1.0</td>\n",
       "      <td>посёлок Парголово</td>\n",
       "      <td>52996.0</td>\n",
       "      <td>19143.0</td>\n",
       "      <td>0.0</td>\n",
       "      <td>NaN</td>\n",
       "      <td>0.0</td>\n",
       "      <td>NaN</td>\n",
       "      <td>155.0</td>\n",
       "    </tr>\n",
       "    <tr>\n",
       "      <th>7</th>\n",
       "      <td>5</td>\n",
       "      <td>7915000.0</td>\n",
       "      <td>71.60</td>\n",
       "      <td>2019-04-18T00:00:00</td>\n",
       "      <td>2</td>\n",
       "      <td>NaN</td>\n",
       "      <td>24.0</td>\n",
       "      <td>NaN</td>\n",
       "      <td>22</td>\n",
       "      <td>NaN</td>\n",
       "      <td>False</td>\n",
       "      <td>False</td>\n",
       "      <td>18.90</td>\n",
       "      <td>2.0</td>\n",
       "      <td>Санкт-Петербург</td>\n",
       "      <td>23982.0</td>\n",
       "      <td>11634.0</td>\n",
       "      <td>0.0</td>\n",
       "      <td>NaN</td>\n",
       "      <td>0.0</td>\n",
       "      <td>NaN</td>\n",
       "      <td>NaN</td>\n",
       "    </tr>\n",
       "    <tr>\n",
       "      <th>8</th>\n",
       "      <td>20</td>\n",
       "      <td>2900000.0</td>\n",
       "      <td>33.16</td>\n",
       "      <td>2018-05-23T00:00:00</td>\n",
       "      <td>1</td>\n",
       "      <td>NaN</td>\n",
       "      <td>27.0</td>\n",
       "      <td>15.43</td>\n",
       "      <td>26</td>\n",
       "      <td>NaN</td>\n",
       "      <td>False</td>\n",
       "      <td>False</td>\n",
       "      <td>8.81</td>\n",
       "      <td>NaN</td>\n",
       "      <td>посёлок Мурино</td>\n",
       "      <td>NaN</td>\n",
       "      <td>NaN</td>\n",
       "      <td>NaN</td>\n",
       "      <td>NaN</td>\n",
       "      <td>NaN</td>\n",
       "      <td>NaN</td>\n",
       "      <td>189.0</td>\n",
       "    </tr>\n",
       "    <tr>\n",
       "      <th>9</th>\n",
       "      <td>18</td>\n",
       "      <td>5400000.0</td>\n",
       "      <td>61.00</td>\n",
       "      <td>2017-02-26T00:00:00</td>\n",
       "      <td>3</td>\n",
       "      <td>2.50</td>\n",
       "      <td>9.0</td>\n",
       "      <td>43.60</td>\n",
       "      <td>7</td>\n",
       "      <td>NaN</td>\n",
       "      <td>False</td>\n",
       "      <td>False</td>\n",
       "      <td>6.50</td>\n",
       "      <td>2.0</td>\n",
       "      <td>Санкт-Петербург</td>\n",
       "      <td>50898.0</td>\n",
       "      <td>15008.0</td>\n",
       "      <td>0.0</td>\n",
       "      <td>NaN</td>\n",
       "      <td>0.0</td>\n",
       "      <td>NaN</td>\n",
       "      <td>289.0</td>\n",
       "    </tr>\n",
       "  </tbody>\n",
       "</table>\n",
       "</div>"
      ],
      "text/plain": [
       "   total_images  last_price  total_area first_day_exposition  rooms  \\\n",
       "0            20  13000000.0      108.00  2019-03-07T00:00:00      3   \n",
       "1             7   3350000.0       40.40  2018-12-04T00:00:00      1   \n",
       "2            10   5196000.0       56.00  2015-08-20T00:00:00      2   \n",
       "3             0  64900000.0      159.00  2015-07-24T00:00:00      3   \n",
       "4             2  10000000.0      100.00  2018-06-19T00:00:00      2   \n",
       "5            10   2890000.0       30.40  2018-09-10T00:00:00      1   \n",
       "6             6   3700000.0       37.30  2017-11-02T00:00:00      1   \n",
       "7             5   7915000.0       71.60  2019-04-18T00:00:00      2   \n",
       "8            20   2900000.0       33.16  2018-05-23T00:00:00      1   \n",
       "9            18   5400000.0       61.00  2017-02-26T00:00:00      3   \n",
       "\n",
       "   ceiling_height  floors_total  living_area  floor is_apartment  studio  \\\n",
       "0            2.70          16.0        51.00      8          NaN   False   \n",
       "1             NaN          11.0        18.60      1          NaN   False   \n",
       "2             NaN           5.0        34.30      4          NaN   False   \n",
       "3             NaN          14.0          NaN      9          NaN   False   \n",
       "4            3.03          14.0        32.00     13          NaN   False   \n",
       "5             NaN          12.0        14.40      5          NaN   False   \n",
       "6             NaN          26.0        10.60      6          NaN   False   \n",
       "7             NaN          24.0          NaN     22          NaN   False   \n",
       "8             NaN          27.0        15.43     26          NaN   False   \n",
       "9            2.50           9.0        43.60      7          NaN   False   \n",
       "\n",
       "   open_plan  kitchen_area  balcony              locality_name  \\\n",
       "0      False         25.00      NaN            Санкт-Петербург   \n",
       "1      False         11.00      2.0             посёлок Шушары   \n",
       "2      False          8.30      0.0            Санкт-Петербург   \n",
       "3      False           NaN      0.0            Санкт-Петербург   \n",
       "4      False         41.00      NaN            Санкт-Петербург   \n",
       "5      False          9.10      NaN  городской посёлок Янино-1   \n",
       "6      False         14.40      1.0          посёлок Парголово   \n",
       "7      False         18.90      2.0            Санкт-Петербург   \n",
       "8      False          8.81      NaN             посёлок Мурино   \n",
       "9      False          6.50      2.0            Санкт-Петербург   \n",
       "\n",
       "   airports_nearest  cityCenters_nearest  parks_around3000  parks_nearest  \\\n",
       "0           18863.0              16028.0               1.0          482.0   \n",
       "1           12817.0              18603.0               0.0            NaN   \n",
       "2           21741.0              13933.0               1.0           90.0   \n",
       "3           28098.0               6800.0               2.0           84.0   \n",
       "4           31856.0               8098.0               2.0          112.0   \n",
       "5               NaN                  NaN               NaN            NaN   \n",
       "6           52996.0              19143.0               0.0            NaN   \n",
       "7           23982.0              11634.0               0.0            NaN   \n",
       "8               NaN                  NaN               NaN            NaN   \n",
       "9           50898.0              15008.0               0.0            NaN   \n",
       "\n",
       "   ponds_around3000  ponds_nearest  days_exposition  \n",
       "0               2.0          755.0              NaN  \n",
       "1               0.0            NaN             81.0  \n",
       "2               2.0          574.0            558.0  \n",
       "3               3.0          234.0            424.0  \n",
       "4               1.0           48.0            121.0  \n",
       "5               NaN            NaN             55.0  \n",
       "6               0.0            NaN            155.0  \n",
       "7               0.0            NaN              NaN  \n",
       "8               NaN            NaN            189.0  \n",
       "9               0.0            NaN            289.0  "
      ]
     },
     "execution_count": 3,
     "metadata": {},
     "output_type": "execute_result"
    }
   ],
   "source": [
    "data.head(10)"
   ]
  },
  {
   "cell_type": "code",
   "execution_count": 4,
   "metadata": {},
   "outputs": [
    {
     "name": "stdout",
     "output_type": "stream",
     "text": [
      "<class 'pandas.core.frame.DataFrame'>\n",
      "RangeIndex: 23699 entries, 0 to 23698\n",
      "Data columns (total 22 columns):\n",
      " #   Column                Non-Null Count  Dtype  \n",
      "---  ------                --------------  -----  \n",
      " 0   total_images          23699 non-null  int64  \n",
      " 1   last_price            23699 non-null  float64\n",
      " 2   total_area            23699 non-null  float64\n",
      " 3   first_day_exposition  23699 non-null  object \n",
      " 4   rooms                 23699 non-null  int64  \n",
      " 5   ceiling_height        14504 non-null  float64\n",
      " 6   floors_total          23613 non-null  float64\n",
      " 7   living_area           21796 non-null  float64\n",
      " 8   floor                 23699 non-null  int64  \n",
      " 9   is_apartment          2775 non-null   object \n",
      " 10  studio                23699 non-null  bool   \n",
      " 11  open_plan             23699 non-null  bool   \n",
      " 12  kitchen_area          21421 non-null  float64\n",
      " 13  balcony               12180 non-null  float64\n",
      " 14  locality_name         23650 non-null  object \n",
      " 15  airports_nearest      18157 non-null  float64\n",
      " 16  cityCenters_nearest   18180 non-null  float64\n",
      " 17  parks_around3000      18181 non-null  float64\n",
      " 18  parks_nearest         8079 non-null   float64\n",
      " 19  ponds_around3000      18181 non-null  float64\n",
      " 20  ponds_nearest         9110 non-null   float64\n",
      " 21  days_exposition       20518 non-null  float64\n",
      "dtypes: bool(2), float64(14), int64(3), object(3)\n",
      "memory usage: 3.7+ MB\n"
     ]
    }
   ],
   "source": [
    "data.info()"
   ]
  },
  {
   "cell_type": "markdown",
   "metadata": {},
   "source": [
    "В таблице содержится 22 столбца:\n",
    "1. total_images — общее количество фотографий.\n",
    "2. last_price — окончательная цена.\n",
    "3. total_area — общая площадь.\n",
    "4. first_day_exposition — первый день публикации объявления.\n",
    "5. rooms — количество комнат.\n",
    "6. ceiling_height — высота потолков.\n",
    "7. floors_total — общее количество этажей в доме.\n",
    "8. living_area — жилая площадь.\n",
    "9. floor — этаж.\n",
    "10. is_apartment — является ли апартаментами (булевый признак).\n",
    "11. studio - студия (булевый признак).\n",
    "12. open_plan - свободная планировка (булевый признак).\n",
    "13. kitchen_area — площадь кухни.\n",
    "14. balcony — количество балконов.\n",
    "15. locality_name — название населённого пункта.\n",
    "16. airports_nearest — расстояние до ближайшего аэропорта.\n",
    "17. cityCenters_nearest — расстояние до центра города.\n",
    "18. parks_around3000 — количество парков в радиусе 3000 метров.\n",
    "19. parks_nearest — расстояние до ближайшего парка.\n",
    "20. ponds_around3000 — количество водоёмов в радиусе 3000 метров.\n",
    "21. ponds_nearest — расстояние до ближайшего водоёма.\n",
    "22. days_exposition — количество дней публикации объявления.\n",
    "\n",
    "Некоторые признаки имеют большое количество пропущенных значений. Есть нарушения в стилистике именования столбцов - смешение стилей camelCase и snake_case, избыточность или недостаточность информации. Например в cityCenters_nearest используется \"центр\" во множественном числе, в parks_around3000 и ponds_around3000 используется число 3000, но не указана единица измерения."
   ]
  },
  {
   "cell_type": "markdown",
   "metadata": {},
   "source": [
    "## Основные статистические показатели таблицы"
   ]
  },
  {
   "cell_type": "code",
   "execution_count": 5,
   "metadata": {},
   "outputs": [
    {
     "data": {
      "text/html": [
       "<div>\n",
       "<style scoped>\n",
       "    .dataframe tbody tr th:only-of-type {\n",
       "        vertical-align: middle;\n",
       "    }\n",
       "\n",
       "    .dataframe tbody tr th {\n",
       "        vertical-align: top;\n",
       "    }\n",
       "\n",
       "    .dataframe thead th {\n",
       "        text-align: right;\n",
       "    }\n",
       "</style>\n",
       "<table border=\"1\" class=\"dataframe\">\n",
       "  <thead>\n",
       "    <tr style=\"text-align: right;\">\n",
       "      <th></th>\n",
       "      <th>total_images</th>\n",
       "      <th>last_price</th>\n",
       "      <th>total_area</th>\n",
       "      <th>rooms</th>\n",
       "      <th>ceiling_height</th>\n",
       "      <th>floors_total</th>\n",
       "      <th>living_area</th>\n",
       "      <th>floor</th>\n",
       "      <th>kitchen_area</th>\n",
       "      <th>balcony</th>\n",
       "      <th>airports_nearest</th>\n",
       "      <th>cityCenters_nearest</th>\n",
       "      <th>parks_around3000</th>\n",
       "      <th>parks_nearest</th>\n",
       "      <th>ponds_around3000</th>\n",
       "      <th>ponds_nearest</th>\n",
       "      <th>days_exposition</th>\n",
       "    </tr>\n",
       "  </thead>\n",
       "  <tbody>\n",
       "    <tr>\n",
       "      <th>count</th>\n",
       "      <td>23699.000000</td>\n",
       "      <td>2.369900e+04</td>\n",
       "      <td>23699.000000</td>\n",
       "      <td>23699.000000</td>\n",
       "      <td>14504.000000</td>\n",
       "      <td>23613.000000</td>\n",
       "      <td>21796.000000</td>\n",
       "      <td>23699.000000</td>\n",
       "      <td>21421.000000</td>\n",
       "      <td>12180.000000</td>\n",
       "      <td>18157.000000</td>\n",
       "      <td>18180.000000</td>\n",
       "      <td>18181.000000</td>\n",
       "      <td>8079.000000</td>\n",
       "      <td>18181.000000</td>\n",
       "      <td>9110.000000</td>\n",
       "      <td>20518.000000</td>\n",
       "    </tr>\n",
       "    <tr>\n",
       "      <th>mean</th>\n",
       "      <td>9.858475</td>\n",
       "      <td>6.541549e+06</td>\n",
       "      <td>60.348651</td>\n",
       "      <td>2.070636</td>\n",
       "      <td>2.771499</td>\n",
       "      <td>10.673824</td>\n",
       "      <td>34.457852</td>\n",
       "      <td>5.892358</td>\n",
       "      <td>10.569807</td>\n",
       "      <td>1.150082</td>\n",
       "      <td>28793.672193</td>\n",
       "      <td>14191.277833</td>\n",
       "      <td>0.611408</td>\n",
       "      <td>490.804555</td>\n",
       "      <td>0.770255</td>\n",
       "      <td>517.980900</td>\n",
       "      <td>180.888634</td>\n",
       "    </tr>\n",
       "    <tr>\n",
       "      <th>std</th>\n",
       "      <td>5.682529</td>\n",
       "      <td>1.088701e+07</td>\n",
       "      <td>35.654083</td>\n",
       "      <td>1.078405</td>\n",
       "      <td>1.261056</td>\n",
       "      <td>6.597173</td>\n",
       "      <td>22.030445</td>\n",
       "      <td>4.885249</td>\n",
       "      <td>5.905438</td>\n",
       "      <td>1.071300</td>\n",
       "      <td>12630.880622</td>\n",
       "      <td>8608.386210</td>\n",
       "      <td>0.802074</td>\n",
       "      <td>342.317995</td>\n",
       "      <td>0.938346</td>\n",
       "      <td>277.720643</td>\n",
       "      <td>219.727988</td>\n",
       "    </tr>\n",
       "    <tr>\n",
       "      <th>min</th>\n",
       "      <td>0.000000</td>\n",
       "      <td>1.219000e+04</td>\n",
       "      <td>12.000000</td>\n",
       "      <td>0.000000</td>\n",
       "      <td>1.000000</td>\n",
       "      <td>1.000000</td>\n",
       "      <td>2.000000</td>\n",
       "      <td>1.000000</td>\n",
       "      <td>1.300000</td>\n",
       "      <td>0.000000</td>\n",
       "      <td>0.000000</td>\n",
       "      <td>181.000000</td>\n",
       "      <td>0.000000</td>\n",
       "      <td>1.000000</td>\n",
       "      <td>0.000000</td>\n",
       "      <td>13.000000</td>\n",
       "      <td>1.000000</td>\n",
       "    </tr>\n",
       "    <tr>\n",
       "      <th>25%</th>\n",
       "      <td>6.000000</td>\n",
       "      <td>3.400000e+06</td>\n",
       "      <td>40.000000</td>\n",
       "      <td>1.000000</td>\n",
       "      <td>2.520000</td>\n",
       "      <td>5.000000</td>\n",
       "      <td>18.600000</td>\n",
       "      <td>2.000000</td>\n",
       "      <td>7.000000</td>\n",
       "      <td>0.000000</td>\n",
       "      <td>18585.000000</td>\n",
       "      <td>9238.000000</td>\n",
       "      <td>0.000000</td>\n",
       "      <td>288.000000</td>\n",
       "      <td>0.000000</td>\n",
       "      <td>294.000000</td>\n",
       "      <td>45.000000</td>\n",
       "    </tr>\n",
       "    <tr>\n",
       "      <th>50%</th>\n",
       "      <td>9.000000</td>\n",
       "      <td>4.650000e+06</td>\n",
       "      <td>52.000000</td>\n",
       "      <td>2.000000</td>\n",
       "      <td>2.650000</td>\n",
       "      <td>9.000000</td>\n",
       "      <td>30.000000</td>\n",
       "      <td>4.000000</td>\n",
       "      <td>9.100000</td>\n",
       "      <td>1.000000</td>\n",
       "      <td>26726.000000</td>\n",
       "      <td>13098.500000</td>\n",
       "      <td>0.000000</td>\n",
       "      <td>455.000000</td>\n",
       "      <td>1.000000</td>\n",
       "      <td>502.000000</td>\n",
       "      <td>95.000000</td>\n",
       "    </tr>\n",
       "    <tr>\n",
       "      <th>75%</th>\n",
       "      <td>14.000000</td>\n",
       "      <td>6.800000e+06</td>\n",
       "      <td>69.900000</td>\n",
       "      <td>3.000000</td>\n",
       "      <td>2.800000</td>\n",
       "      <td>16.000000</td>\n",
       "      <td>42.300000</td>\n",
       "      <td>8.000000</td>\n",
       "      <td>12.000000</td>\n",
       "      <td>2.000000</td>\n",
       "      <td>37273.000000</td>\n",
       "      <td>16293.000000</td>\n",
       "      <td>1.000000</td>\n",
       "      <td>612.000000</td>\n",
       "      <td>1.000000</td>\n",
       "      <td>729.000000</td>\n",
       "      <td>232.000000</td>\n",
       "    </tr>\n",
       "    <tr>\n",
       "      <th>max</th>\n",
       "      <td>50.000000</td>\n",
       "      <td>7.630000e+08</td>\n",
       "      <td>900.000000</td>\n",
       "      <td>19.000000</td>\n",
       "      <td>100.000000</td>\n",
       "      <td>60.000000</td>\n",
       "      <td>409.700000</td>\n",
       "      <td>33.000000</td>\n",
       "      <td>112.000000</td>\n",
       "      <td>5.000000</td>\n",
       "      <td>84869.000000</td>\n",
       "      <td>65968.000000</td>\n",
       "      <td>3.000000</td>\n",
       "      <td>3190.000000</td>\n",
       "      <td>3.000000</td>\n",
       "      <td>1344.000000</td>\n",
       "      <td>1580.000000</td>\n",
       "    </tr>\n",
       "  </tbody>\n",
       "</table>\n",
       "</div>"
      ],
      "text/plain": [
       "       total_images    last_price    total_area         rooms  ceiling_height  \\\n",
       "count  23699.000000  2.369900e+04  23699.000000  23699.000000    14504.000000   \n",
       "mean       9.858475  6.541549e+06     60.348651      2.070636        2.771499   \n",
       "std        5.682529  1.088701e+07     35.654083      1.078405        1.261056   \n",
       "min        0.000000  1.219000e+04     12.000000      0.000000        1.000000   \n",
       "25%        6.000000  3.400000e+06     40.000000      1.000000        2.520000   \n",
       "50%        9.000000  4.650000e+06     52.000000      2.000000        2.650000   \n",
       "75%       14.000000  6.800000e+06     69.900000      3.000000        2.800000   \n",
       "max       50.000000  7.630000e+08    900.000000     19.000000      100.000000   \n",
       "\n",
       "       floors_total   living_area         floor  kitchen_area       balcony  \\\n",
       "count  23613.000000  21796.000000  23699.000000  21421.000000  12180.000000   \n",
       "mean      10.673824     34.457852      5.892358     10.569807      1.150082   \n",
       "std        6.597173     22.030445      4.885249      5.905438      1.071300   \n",
       "min        1.000000      2.000000      1.000000      1.300000      0.000000   \n",
       "25%        5.000000     18.600000      2.000000      7.000000      0.000000   \n",
       "50%        9.000000     30.000000      4.000000      9.100000      1.000000   \n",
       "75%       16.000000     42.300000      8.000000     12.000000      2.000000   \n",
       "max       60.000000    409.700000     33.000000    112.000000      5.000000   \n",
       "\n",
       "       airports_nearest  cityCenters_nearest  parks_around3000  parks_nearest  \\\n",
       "count      18157.000000         18180.000000      18181.000000    8079.000000   \n",
       "mean       28793.672193         14191.277833          0.611408     490.804555   \n",
       "std        12630.880622          8608.386210          0.802074     342.317995   \n",
       "min            0.000000           181.000000          0.000000       1.000000   \n",
       "25%        18585.000000          9238.000000          0.000000     288.000000   \n",
       "50%        26726.000000         13098.500000          0.000000     455.000000   \n",
       "75%        37273.000000         16293.000000          1.000000     612.000000   \n",
       "max        84869.000000         65968.000000          3.000000    3190.000000   \n",
       "\n",
       "       ponds_around3000  ponds_nearest  days_exposition  \n",
       "count      18181.000000    9110.000000     20518.000000  \n",
       "mean           0.770255     517.980900       180.888634  \n",
       "std            0.938346     277.720643       219.727988  \n",
       "min            0.000000      13.000000         1.000000  \n",
       "25%            0.000000     294.000000        45.000000  \n",
       "50%            1.000000     502.000000        95.000000  \n",
       "75%            1.000000     729.000000       232.000000  \n",
       "max            3.000000    1344.000000      1580.000000  "
      ]
     },
     "execution_count": 5,
     "metadata": {},
     "output_type": "execute_result"
    }
   ],
   "source": [
    "data.describe()"
   ]
  },
  {
   "cell_type": "markdown",
   "metadata": {},
   "source": [
    "В некоторых столбцах виден большой разброс в данных. \n",
    "Например: средняя цена намного ниже стандартного отклонения; максимальная высота потоков 100м, общее количество этажей - 60; количество дней публикации -1"
   ]
  },
  {
   "cell_type": "markdown",
   "metadata": {},
   "source": [
    "## Построим гистограммы"
   ]
  },
  {
   "cell_type": "code",
   "execution_count": 6,
   "metadata": {},
   "outputs": [
    {
     "data": {
      "image/png": "[encoded data removed]",
      "text/plain": [
       "<Figure size 1080x1440 with 20 Axes>"
      ]
     },
     "metadata": {
      "needs_background": "light"
     },
     "output_type": "display_data"
    }
   ],
   "source": [
    "data.hist(figsize=(15, 20));"
   ]
  },
  {
   "cell_type": "markdown",
   "metadata": {},
   "source": [
    "## Вывод"
   ]
  },
  {
   "cell_type": "markdown",
   "metadata": {},
   "source": [
    "В полученных данных были обнаружены признаки с большим количеством пропуском и нарушением в стилистике именования столбцов. Также, наличие большого разброса в некоторых признаках может указывать на высокую дисперсию и возможные выбросы."
   ]
  },
  {
   "cell_type": "markdown",
   "metadata": {
    "id": "-O5NtivEAwb9"
   },
   "source": [
    "# Предобработка данных"
   ]
  },
  {
   "cell_type": "markdown",
   "metadata": {},
   "source": [
    "## Избавление от нарушений стилистики именования столбцов и приведение к общему виду"
   ]
  },
  {
   "cell_type": "code",
   "execution_count": 7,
   "metadata": {
    "id": "7v3vAeTuAwb-"
   },
   "outputs": [
    {
     "data": {
      "text/plain": [
       "Index(['total_images', 'last_price', 'total_area', 'first_day_exposition',\n",
       "       'rooms', 'ceiling_height', 'floors_total', 'living_area', 'floor',\n",
       "       'is_apartment', 'is_studio', 'is_open_plan', 'kitchen_area', 'balcony',\n",
       "       'locality_name', 'airports_nearest', 'city_center_nearest',\n",
       "       'parks_around_3000m', 'parks_nearest', 'ponds_around_3000m',\n",
       "       'ponds_nearest', 'days_exposition'],\n",
       "      dtype='object')"
      ]
     },
     "execution_count": 7,
     "metadata": {},
     "output_type": "execute_result"
    }
   ],
   "source": [
    "data = data.rename(columns={'cityCenters_nearest': 'city_center_nearest',\n",
    "                            'studio': 'is_studio',\n",
    "                            'open_plan': 'is_open_plan',\n",
    "                            'parks_around3000': 'parks_around_3000m',\n",
    "                            'ponds_around3000': 'ponds_around_3000m',\n",
    "                            }\n",
    ")\n",
    "data.columns"
   ]
  },
  {
   "cell_type": "markdown",
   "metadata": {},
   "source": [
    "## Выведем количество пропущенных значений для каждого столбца."
   ]
  },
  {
   "cell_type": "code",
   "execution_count": 8,
   "metadata": {},
   "outputs": [
    {
     "data": {
      "text/plain": [
       "total_images                0\n",
       "last_price                  0\n",
       "total_area                  0\n",
       "first_day_exposition        0\n",
       "rooms                       0\n",
       "ceiling_height           9195\n",
       "floors_total               86\n",
       "living_area              1903\n",
       "floor                       0\n",
       "is_apartment            20924\n",
       "is_studio                   0\n",
       "is_open_plan                0\n",
       "kitchen_area             2278\n",
       "balcony                 11519\n",
       "locality_name              49\n",
       "airports_nearest         5542\n",
       "city_center_nearest      5519\n",
       "parks_around_3000m       5518\n",
       "parks_nearest           15620\n",
       "ponds_around_3000m       5518\n",
       "ponds_nearest           14589\n",
       "days_exposition          3181\n",
       "dtype: int64"
      ]
     },
     "execution_count": 8,
     "metadata": {},
     "output_type": "execute_result"
    }
   ],
   "source": [
    "data.isna().sum()"
   ]
  },
  {
   "cell_type": "markdown",
   "metadata": {},
   "source": [
    "Самое большое количество пропусков в столбце is_apartment. Проверим, какие значения там храняться и обработаем пропуски."
   ]
  },
  {
   "cell_type": "code",
   "execution_count": 9,
   "metadata": {},
   "outputs": [
    {
     "data": {
      "text/plain": [
       "False    2725\n",
       "True       50\n",
       "Name: is_apartment, dtype: int64"
      ]
     },
     "execution_count": 9,
     "metadata": {},
     "output_type": "execute_result"
    }
   ],
   "source": [
    "data['is_apartment'].value_counts()"
   ]
  },
  {
   "cell_type": "code",
   "execution_count": 10,
   "metadata": {},
   "outputs": [
    {
     "data": {
      "text/plain": [
       "array([nan, False, True], dtype=object)"
      ]
     },
     "execution_count": 10,
     "metadata": {},
     "output_type": "execute_result"
    }
   ],
   "source": [
    "data['is_apartment'].unique()"
   ]
  },
  {
   "cell_type": "markdown",
   "metadata": {},
   "source": [
    "Мы рассматриваем объявления о продаже квартир, апартаменты не являются жилой недвижимостью. Скорее всего, пользователи могли не указывать о том, что продают квартиру, т.к. это основной пункт в объявлении. <br><br><br>\n",
    "## Заменим все значения NaN на False и изменим тип данных в столбце на целочисленный, т.к. есть всего две категории: 1 - апартаменты, 0 - не апартаменты и для работы с графиками."
   ]
  },
  {
   "cell_type": "code",
   "execution_count": 11,
   "metadata": {},
   "outputs": [
    {
     "name": "stdout",
     "output_type": "stream",
     "text": [
      "0    23649\n",
      "1       50\n",
      "Name: is_apartment, dtype: int64\n",
      "int64\n"
     ]
    }
   ],
   "source": [
    "data['is_apartment'] = (data['is_apartment'].fillna(False)).astype('int64')\n",
    "print(data['is_apartment'].value_counts())\n",
    "print(data['is_apartment'].dtype)"
   ]
  },
  {
   "cell_type": "markdown",
   "metadata": {},
   "source": [
    "## Проверим значения в balcony."
   ]
  },
  {
   "cell_type": "code",
   "execution_count": 12,
   "metadata": {},
   "outputs": [
    {
     "data": {
      "text/plain": [
       "array([nan,  2.,  0.,  1.,  5.,  4.,  3.])"
      ]
     },
     "execution_count": 12,
     "metadata": {},
     "output_type": "execute_result"
    }
   ],
   "source": [
    "data['balcony'].unique()"
   ]
  },
  {
   "cell_type": "markdown",
   "metadata": {},
   "source": [
    "Скорее всего NaN означает отсутствие балкона. <br><br>\n"
   ]
  },
  {
   "cell_type": "markdown",
   "metadata": {},
   "source": [
    "### Заменим NaN на 0 и изменим тип данных на int64, т.к. количество балконов является целочисленным значением."
   ]
  },
  {
   "cell_type": "code",
   "execution_count": 13,
   "metadata": {},
   "outputs": [
    {
     "data": {
      "text/plain": [
       "array([0, 2, 1, 5, 4, 3])"
      ]
     },
     "execution_count": 13,
     "metadata": {},
     "output_type": "execute_result"
    }
   ],
   "source": [
    "data['balcony'] = (data['balcony'].fillna(0)).astype('int64')\n",
    "data['balcony'].unique()"
   ]
  },
  {
   "cell_type": "markdown",
   "metadata": {},
   "source": [
    "## Избавление от неявных дубликатов."
   ]
  },
  {
   "cell_type": "code",
   "execution_count": 14,
   "metadata": {},
   "outputs": [
    {
     "data": {
      "text/plain": [
       "array(['Санкт-Петербург', 'посёлок Шушары', 'городской посёлок Янино-1',\n",
       "       'посёлок Парголово', 'посёлок Мурино', 'Ломоносов', 'Сертолово',\n",
       "       'Петергоф', 'Пушкин', 'деревня Кудрово', 'Коммунар', 'Колпино',\n",
       "       'поселок городского типа Красный Бор', 'Гатчина', 'поселок Мурино',\n",
       "       'деревня Фёдоровское', 'Выборг', 'Кронштадт', 'Кировск',\n",
       "       'деревня Новое Девяткино', 'посёлок Металлострой',\n",
       "       'посёлок городского типа Лебяжье',\n",
       "       'посёлок городского типа Сиверский', 'поселок Молодцово',\n",
       "       'поселок городского типа Кузьмоловский',\n",
       "       'садовое товарищество Новая Ропша', 'Павловск',\n",
       "       'деревня Пикколово', 'Всеволожск', 'Волхов', 'Кингисепп',\n",
       "       'Приозерск', 'Сестрорецк', 'деревня Куттузи', 'посёлок Аннино',\n",
       "       'поселок городского типа Ефимовский', 'посёлок Плодовое',\n",
       "       'деревня Заклинье', 'поселок Торковичи', 'поселок Первомайское',\n",
       "       'Красное Село', 'посёлок Понтонный', 'Сясьстрой', 'деревня Старая',\n",
       "       'деревня Лесколово', 'посёлок Новый Свет', 'Сланцы',\n",
       "       'село Путилово', 'Ивангород', 'Мурино', 'Шлиссельбург',\n",
       "       'Никольское', 'Зеленогорск', 'Сосновый Бор', 'поселок Новый Свет',\n",
       "       'деревня Оржицы', 'деревня Кальтино', 'Кудрово',\n",
       "       'поселок Романовка', 'посёлок Бугры', 'поселок Бугры',\n",
       "       'поселок городского типа Рощино', 'Кириши', 'Луга', 'Волосово',\n",
       "       'Отрадное', 'село Павлово', 'поселок Оредеж', 'село Копорье',\n",
       "       'посёлок городского типа Красный Бор', 'посёлок Молодёжное',\n",
       "       'Тихвин', 'посёлок Победа', 'деревня Нурма',\n",
       "       'поселок городского типа Синявино', 'Тосно',\n",
       "       'посёлок городского типа Кузьмоловский', 'посёлок Стрельна',\n",
       "       'Бокситогорск', 'посёлок Александровская', 'деревня Лопухинка',\n",
       "       'Пикалёво', 'поселок Терволово',\n",
       "       'поселок городского типа Советский', 'Подпорожье',\n",
       "       'посёлок Петровское', 'посёлок городского типа Токсово',\n",
       "       'поселок Сельцо', 'посёлок городского типа Вырица',\n",
       "       'деревня Кипень', 'деревня Келози', 'деревня Вартемяги',\n",
       "       'посёлок Тельмана', 'поселок Севастьяново',\n",
       "       'городской поселок Большая Ижора', nan,\n",
       "       'городской посёлок Павлово', 'деревня Агалатово',\n",
       "       'посёлок Новогорелово', 'городской посёлок Лесогорский',\n",
       "       'деревня Лаголово', 'поселок Цвелодубово',\n",
       "       'поселок городского типа Рахья', 'поселок городского типа Вырица',\n",
       "       'деревня Белогорка', 'поселок Заводской',\n",
       "       'городской посёлок Новоселье', 'деревня Большие Колпаны',\n",
       "       'деревня Горбунки', 'деревня Батово', 'деревня Заневка',\n",
       "       'деревня Иссад', 'Приморск', 'городской посёлок Фёдоровское',\n",
       "       'деревня Мистолово', 'Новая Ладога', 'поселок Зимитицы',\n",
       "       'поселок Барышево', 'деревня Разметелево',\n",
       "       'поселок городского типа имени Свердлова', 'деревня Пеники',\n",
       "       'поселок Рябово', 'деревня Пудомяги', 'поселок станции Корнево',\n",
       "       'деревня Низино', 'деревня Бегуницы', 'посёлок Поляны',\n",
       "       'городской посёлок Мга', 'поселок Елизаветино',\n",
       "       'посёлок городского типа Кузнечное', 'деревня Колтуши',\n",
       "       'поселок Запорожское', 'посёлок городского типа Рощино',\n",
       "       'деревня Гостилицы', 'деревня Малое Карлино',\n",
       "       'посёлок Мичуринское', 'посёлок городского типа имени Морозова',\n",
       "       'посёлок Песочный', 'посёлок Сосново', 'деревня Аро',\n",
       "       'поселок Ильичёво', 'посёлок городского типа Тайцы',\n",
       "       'деревня Малое Верево', 'деревня Извара', 'поселок станции Вещево',\n",
       "       'село Паша', 'деревня Калитино',\n",
       "       'посёлок городского типа Ульяновка', 'деревня Чудской Бор',\n",
       "       'поселок городского типа Дубровка', 'деревня Мины',\n",
       "       'поселок Войсковицы', 'посёлок городского типа имени Свердлова',\n",
       "       'деревня Коркино', 'посёлок Ропша',\n",
       "       'поселок городского типа Приладожский', 'посёлок Щеглово',\n",
       "       'посёлок Гаврилово', 'Лодейное Поле', 'деревня Рабитицы',\n",
       "       'поселок городского типа Никольский', 'деревня Кузьмолово',\n",
       "       'деревня Малые Колпаны', 'поселок Тельмана',\n",
       "       'посёлок Петро-Славянка', 'городской посёлок Назия',\n",
       "       'посёлок Репино', 'посёлок Ильичёво', 'поселок Углово',\n",
       "       'поселок Старая Малукса', 'садовое товарищество Рахья',\n",
       "       'поселок Аннино', 'поселок Победа', 'деревня Меньково',\n",
       "       'деревня Старые Бегуницы', 'посёлок Сапёрный', 'поселок Семрино',\n",
       "       'поселок Гаврилово', 'поселок Глажево', 'поселок Кобринское',\n",
       "       'деревня Гарболово', 'деревня Юкки',\n",
       "       'поселок станции Приветнинское', 'деревня Мануйлово',\n",
       "       'деревня Пчева', 'поселок Поляны', 'поселок Цвылёво',\n",
       "       'поселок Мельниково', 'посёлок Пудость', 'посёлок Усть-Луга',\n",
       "       'Светогорск', 'Любань', 'поселок Селезнёво',\n",
       "       'поселок городского типа Рябово', 'Каменногорск', 'деревня Кривко',\n",
       "       'поселок Глебычево', 'деревня Парицы', 'поселок Жилпосёлок',\n",
       "       'посёлок городского типа Мга', 'городской поселок Янино-1',\n",
       "       'посёлок Войскорово', 'село Никольское', 'посёлок Терволово',\n",
       "       'поселок Стеклянный', 'посёлок городского типа Важины',\n",
       "       'посёлок Мыза-Ивановка', 'село Русско-Высоцкое',\n",
       "       'поселок городского типа Лебяжье',\n",
       "       'поселок городского типа Форносово', 'село Старая Ладога',\n",
       "       'поселок Житково', 'городской посёлок Виллози', 'деревня Лампово',\n",
       "       'деревня Шпаньково', 'деревня Лаврики', 'посёлок Сумино',\n",
       "       'посёлок Возрождение', 'деревня Старосиверская',\n",
       "       'посёлок Кикерино', 'поселок Возрождение',\n",
       "       'деревня Старое Хинколово', 'посёлок Пригородный',\n",
       "       'посёлок Торфяное', 'городской посёлок Будогощь',\n",
       "       'поселок Суходолье', 'поселок Красная Долина', 'деревня Хапо-Ое',\n",
       "       'поселок городского типа Дружная Горка', 'поселок Лисий Нос',\n",
       "       'деревня Яльгелево', 'посёлок Стеклянный', 'село Рождествено',\n",
       "       'деревня Старополье', 'посёлок Левашово', 'деревня Сяськелево',\n",
       "       'деревня Камышовка',\n",
       "       'садоводческое некоммерческое товарищество Лесная Поляна',\n",
       "       'деревня Хязельки', 'поселок Жилгородок',\n",
       "       'посёлок городского типа Павлово', 'деревня Ялгино',\n",
       "       'поселок Новый Учхоз', 'городской посёлок Рощино',\n",
       "       'поселок Гончарово', 'поселок Почап', 'посёлок Сапёрное',\n",
       "       'посёлок Платформа 69-й километр', 'поселок Каложицы',\n",
       "       'деревня Фалилеево', 'деревня Пельгора',\n",
       "       'поселок городского типа Лесогорский', 'деревня Торошковичи',\n",
       "       'посёлок Белоостров', 'посёлок Алексеевка', 'поселок Серебрянский',\n",
       "       'поселок Лукаши', 'поселок Петровское', 'деревня Щеглово',\n",
       "       'поселок Мичуринское', 'деревня Тарасово', 'поселок Кингисеппский',\n",
       "       'посёлок при железнодорожной станции Вещево', 'поселок Ушаки',\n",
       "       'деревня Котлы', 'деревня Сижно', 'деревня Торосово',\n",
       "       'посёлок Форт Красная Горка', 'поселок городского типа Токсово',\n",
       "       'деревня Новолисино', 'посёлок станции Громово', 'деревня Глинка',\n",
       "       'посёлок Мельниково', 'поселок городского типа Назия',\n",
       "       'деревня Старая Пустошь', 'поселок Коммунары', 'поселок Починок',\n",
       "       'посёлок городского типа Вознесенье', 'деревня Разбегаево',\n",
       "       'посёлок городского типа Рябово', 'поселок Гладкое',\n",
       "       'посёлок при железнодорожной станции Приветнинское',\n",
       "       'поселок Тёсово-4', 'посёлок Жилгородок', 'деревня Бор',\n",
       "       'посёлок Коробицыно', 'деревня Большая Вруда', 'деревня Курковицы',\n",
       "       'посёлок Лисий Нос', 'городской посёлок Советский',\n",
       "       'посёлок Кобралово', 'деревня Суоранда', 'поселок Кобралово',\n",
       "       'поселок городского типа Кондратьево',\n",
       "       'коттеджный поселок Счастье', 'поселок Любань', 'деревня Реброво',\n",
       "       'деревня Зимитицы', 'деревня Тойворово', 'поселок Семиозерье',\n",
       "       'поселок Лесное', 'поселок Совхозный', 'поселок Усть-Луга',\n",
       "       'посёлок Ленинское', 'посёлок Суйда',\n",
       "       'посёлок городского типа Форносово', 'деревня Нижние Осельки',\n",
       "       'посёлок станции Свирь', 'поселок Перово', 'Высоцк',\n",
       "       'поселок Гарболово', 'село Шум', 'поселок Котельский',\n",
       "       'поселок станции Лужайка', 'деревня Большая Пустомержа',\n",
       "       'поселок Красносельское', 'деревня Вахнова Кара', 'деревня Пижма',\n",
       "       'коттеджный поселок Кивеннапа Север', 'поселок Коробицыно',\n",
       "       'поселок Ромашки', 'посёлок Перово', 'деревня Каськово',\n",
       "       'деревня Куровицы', 'посёлок Плоское', 'поселок Сумино',\n",
       "       'поселок городского типа Большая Ижора', 'поселок Кирпичное',\n",
       "       'деревня Ям-Тесово', 'деревня Раздолье', 'деревня Терпилицы',\n",
       "       'посёлок Шугозеро', 'деревня Ваганово', 'поселок Пушное',\n",
       "       'садовое товарищество Садко', 'посёлок Усть-Ижора',\n",
       "       'деревня Выскатка', 'городской посёлок Свирьстрой',\n",
       "       'поселок Громово', 'деревня Кисельня', 'посёлок Старая Малукса',\n",
       "       'деревня Трубников Бор', 'поселок Калитино',\n",
       "       'посёлок Высокоключевой', 'садовое товарищество Приладожский',\n",
       "       'посёлок Пансионат Зелёный Бор', 'деревня Ненимяки',\n",
       "       'поселок Пансионат Зелёный Бор', 'деревня Снегирёвка',\n",
       "       'деревня Рапполово', 'деревня Пустынка', 'поселок Рабитицы',\n",
       "       'деревня Большой Сабск', 'деревня Русско', 'деревня Лупполово',\n",
       "       'деревня Большое Рейзино', 'деревня Малая Романовка',\n",
       "       'поселок Дружноселье', 'поселок Пчевжа', 'поселок Володарское',\n",
       "       'деревня Нижняя', 'коттеджный посёлок Лесное', 'деревня Тихковицы',\n",
       "       'деревня Борисова Грива', 'посёлок Дзержинского'], dtype=object)"
      ]
     },
     "execution_count": 14,
     "metadata": {},
     "output_type": "execute_result"
    }
   ],
   "source": [
    "data['locality_name'].unique()"
   ]
  },
  {
   "cell_type": "code",
   "execution_count": 15,
   "metadata": {},
   "outputs": [],
   "source": [
    "data['locality_name'] = (\n",
    "    data['locality_name']\n",
    "    .str.replace('ё', 'е')\n",
    "    .replace(['поселок городского типа', 'поселок станции', 'городской поселок', 'поселок при железнодорожной станции', 'коттеджный поселок'], 'поселок', regex=True)\n",
    ") \n"
   ]
  },
  {
   "cell_type": "markdown",
   "metadata": {},
   "source": [
    "### Посчитаем долю пропусков от общего числа"
   ]
  },
  {
   "cell_type": "code",
   "execution_count": 16,
   "metadata": {},
   "outputs": [
    {
     "data": {
      "text/plain": [
       "0.21"
      ]
     },
     "execution_count": 16,
     "metadata": {},
     "output_type": "execute_result"
    }
   ],
   "source": [
    "round(data['locality_name'].isna().sum() / 23699 * 100, 2)"
   ]
  },
  {
   "cell_type": "markdown",
   "metadata": {},
   "source": [
    "Доля пропусков составляет 0.21%. \n",
    "### Удаление пропусков"
   ]
  },
  {
   "cell_type": "code",
   "execution_count": 17,
   "metadata": {},
   "outputs": [
    {
     "data": {
      "text/plain": [
       "0"
      ]
     },
     "execution_count": 17,
     "metadata": {},
     "output_type": "execute_result"
    }
   ],
   "source": [
    "data = data.dropna(subset=['locality_name'])\n",
    "# Проверим количество пропусков\n",
    "data['locality_name'].isna().sum()"
   ]
  },
  {
   "cell_type": "markdown",
   "metadata": {},
   "source": [
    "## Выведем строки с недвижимостью, высота потолков которых превышает 6 метров"
   ]
  },
  {
   "cell_type": "code",
   "execution_count": 18,
   "metadata": {},
   "outputs": [
    {
     "data": {
      "text/html": [
       "<div>\n",
       "<style scoped>\n",
       "    .dataframe tbody tr th:only-of-type {\n",
       "        vertical-align: middle;\n",
       "    }\n",
       "\n",
       "    .dataframe tbody tr th {\n",
       "        vertical-align: top;\n",
       "    }\n",
       "\n",
       "    .dataframe thead th {\n",
       "        text-align: right;\n",
       "    }\n",
       "</style>\n",
       "<table border=\"1\" class=\"dataframe\">\n",
       "  <thead>\n",
       "    <tr style=\"text-align: right;\">\n",
       "      <th></th>\n",
       "      <th>total_images</th>\n",
       "      <th>last_price</th>\n",
       "      <th>total_area</th>\n",
       "      <th>first_day_exposition</th>\n",
       "      <th>rooms</th>\n",
       "      <th>ceiling_height</th>\n",
       "      <th>floors_total</th>\n",
       "      <th>living_area</th>\n",
       "      <th>floor</th>\n",
       "      <th>is_apartment</th>\n",
       "      <th>is_studio</th>\n",
       "      <th>is_open_plan</th>\n",
       "      <th>kitchen_area</th>\n",
       "      <th>balcony</th>\n",
       "      <th>locality_name</th>\n",
       "      <th>airports_nearest</th>\n",
       "      <th>city_center_nearest</th>\n",
       "      <th>parks_around_3000m</th>\n",
       "      <th>parks_nearest</th>\n",
       "      <th>ponds_around_3000m</th>\n",
       "      <th>ponds_nearest</th>\n",
       "      <th>days_exposition</th>\n",
       "    </tr>\n",
       "  </thead>\n",
       "  <tbody>\n",
       "    <tr>\n",
       "      <th>355</th>\n",
       "      <td>17</td>\n",
       "      <td>3600000.0</td>\n",
       "      <td>55.2</td>\n",
       "      <td>2018-07-12T00:00:00</td>\n",
       "      <td>2</td>\n",
       "      <td>25.0</td>\n",
       "      <td>5.0</td>\n",
       "      <td>32.0</td>\n",
       "      <td>2</td>\n",
       "      <td>0</td>\n",
       "      <td>False</td>\n",
       "      <td>False</td>\n",
       "      <td>NaN</td>\n",
       "      <td>2</td>\n",
       "      <td>Гатчина</td>\n",
       "      <td>NaN</td>\n",
       "      <td>NaN</td>\n",
       "      <td>NaN</td>\n",
       "      <td>NaN</td>\n",
       "      <td>NaN</td>\n",
       "      <td>NaN</td>\n",
       "      <td>259.0</td>\n",
       "    </tr>\n",
       "    <tr>\n",
       "      <th>3148</th>\n",
       "      <td>14</td>\n",
       "      <td>2900000.0</td>\n",
       "      <td>75.0</td>\n",
       "      <td>2018-11-12T00:00:00</td>\n",
       "      <td>3</td>\n",
       "      <td>32.0</td>\n",
       "      <td>3.0</td>\n",
       "      <td>53.0</td>\n",
       "      <td>2</td>\n",
       "      <td>0</td>\n",
       "      <td>False</td>\n",
       "      <td>False</td>\n",
       "      <td>8.0</td>\n",
       "      <td>0</td>\n",
       "      <td>Волхов</td>\n",
       "      <td>NaN</td>\n",
       "      <td>NaN</td>\n",
       "      <td>NaN</td>\n",
       "      <td>NaN</td>\n",
       "      <td>NaN</td>\n",
       "      <td>NaN</td>\n",
       "      <td>NaN</td>\n",
       "    </tr>\n",
       "    <tr>\n",
       "      <th>3474</th>\n",
       "      <td>3</td>\n",
       "      <td>1400000.0</td>\n",
       "      <td>30.0</td>\n",
       "      <td>2018-03-16T00:00:00</td>\n",
       "      <td>1</td>\n",
       "      <td>8.0</td>\n",
       "      <td>5.0</td>\n",
       "      <td>15.3</td>\n",
       "      <td>2</td>\n",
       "      <td>0</td>\n",
       "      <td>False</td>\n",
       "      <td>False</td>\n",
       "      <td>7.3</td>\n",
       "      <td>0</td>\n",
       "      <td>деревня Нурма</td>\n",
       "      <td>NaN</td>\n",
       "      <td>NaN</td>\n",
       "      <td>NaN</td>\n",
       "      <td>NaN</td>\n",
       "      <td>NaN</td>\n",
       "      <td>NaN</td>\n",
       "      <td>125.0</td>\n",
       "    </tr>\n",
       "    <tr>\n",
       "      <th>4643</th>\n",
       "      <td>0</td>\n",
       "      <td>4300000.0</td>\n",
       "      <td>45.0</td>\n",
       "      <td>2018-02-01T00:00:00</td>\n",
       "      <td>2</td>\n",
       "      <td>25.0</td>\n",
       "      <td>9.0</td>\n",
       "      <td>30.0</td>\n",
       "      <td>2</td>\n",
       "      <td>0</td>\n",
       "      <td>False</td>\n",
       "      <td>False</td>\n",
       "      <td>7.0</td>\n",
       "      <td>1</td>\n",
       "      <td>Санкт-Петербург</td>\n",
       "      <td>12016.0</td>\n",
       "      <td>13256.0</td>\n",
       "      <td>1.0</td>\n",
       "      <td>658.0</td>\n",
       "      <td>1.0</td>\n",
       "      <td>331.0</td>\n",
       "      <td>181.0</td>\n",
       "    </tr>\n",
       "    <tr>\n",
       "      <th>4876</th>\n",
       "      <td>7</td>\n",
       "      <td>3000000.0</td>\n",
       "      <td>25.0</td>\n",
       "      <td>2017-09-27T00:00:00</td>\n",
       "      <td>0</td>\n",
       "      <td>27.0</td>\n",
       "      <td>25.0</td>\n",
       "      <td>17.0</td>\n",
       "      <td>17</td>\n",
       "      <td>0</td>\n",
       "      <td>False</td>\n",
       "      <td>True</td>\n",
       "      <td>NaN</td>\n",
       "      <td>2</td>\n",
       "      <td>поселок Мурино</td>\n",
       "      <td>NaN</td>\n",
       "      <td>NaN</td>\n",
       "      <td>NaN</td>\n",
       "      <td>NaN</td>\n",
       "      <td>NaN</td>\n",
       "      <td>NaN</td>\n",
       "      <td>28.0</td>\n",
       "    </tr>\n",
       "    <tr>\n",
       "      <th>5076</th>\n",
       "      <td>0</td>\n",
       "      <td>3850000.0</td>\n",
       "      <td>30.5</td>\n",
       "      <td>2018-10-03T00:00:00</td>\n",
       "      <td>1</td>\n",
       "      <td>24.0</td>\n",
       "      <td>5.0</td>\n",
       "      <td>19.5</td>\n",
       "      <td>1</td>\n",
       "      <td>1</td>\n",
       "      <td>False</td>\n",
       "      <td>False</td>\n",
       "      <td>5.5</td>\n",
       "      <td>0</td>\n",
       "      <td>Санкт-Петербург</td>\n",
       "      <td>29686.0</td>\n",
       "      <td>8389.0</td>\n",
       "      <td>3.0</td>\n",
       "      <td>397.0</td>\n",
       "      <td>1.0</td>\n",
       "      <td>578.0</td>\n",
       "      <td>7.0</td>\n",
       "    </tr>\n",
       "    <tr>\n",
       "      <th>5246</th>\n",
       "      <td>0</td>\n",
       "      <td>2500000.0</td>\n",
       "      <td>54.0</td>\n",
       "      <td>2017-10-13T00:00:00</td>\n",
       "      <td>2</td>\n",
       "      <td>27.0</td>\n",
       "      <td>5.0</td>\n",
       "      <td>30.0</td>\n",
       "      <td>3</td>\n",
       "      <td>0</td>\n",
       "      <td>False</td>\n",
       "      <td>False</td>\n",
       "      <td>9.0</td>\n",
       "      <td>2</td>\n",
       "      <td>деревня Мины</td>\n",
       "      <td>NaN</td>\n",
       "      <td>NaN</td>\n",
       "      <td>NaN</td>\n",
       "      <td>NaN</td>\n",
       "      <td>NaN</td>\n",
       "      <td>NaN</td>\n",
       "      <td>540.0</td>\n",
       "    </tr>\n",
       "    <tr>\n",
       "      <th>5669</th>\n",
       "      <td>4</td>\n",
       "      <td>4400000.0</td>\n",
       "      <td>50.0</td>\n",
       "      <td>2017-08-08T00:00:00</td>\n",
       "      <td>2</td>\n",
       "      <td>26.0</td>\n",
       "      <td>9.0</td>\n",
       "      <td>21.3</td>\n",
       "      <td>3</td>\n",
       "      <td>0</td>\n",
       "      <td>False</td>\n",
       "      <td>False</td>\n",
       "      <td>7.0</td>\n",
       "      <td>2</td>\n",
       "      <td>Санкт-Петербург</td>\n",
       "      <td>28981.0</td>\n",
       "      <td>10912.0</td>\n",
       "      <td>1.0</td>\n",
       "      <td>305.0</td>\n",
       "      <td>0.0</td>\n",
       "      <td>NaN</td>\n",
       "      <td>267.0</td>\n",
       "    </tr>\n",
       "    <tr>\n",
       "      <th>5807</th>\n",
       "      <td>17</td>\n",
       "      <td>8150000.0</td>\n",
       "      <td>80.0</td>\n",
       "      <td>2019-01-09T00:00:00</td>\n",
       "      <td>2</td>\n",
       "      <td>27.0</td>\n",
       "      <td>36.0</td>\n",
       "      <td>41.0</td>\n",
       "      <td>13</td>\n",
       "      <td>0</td>\n",
       "      <td>False</td>\n",
       "      <td>False</td>\n",
       "      <td>12.0</td>\n",
       "      <td>5</td>\n",
       "      <td>Санкт-Петербург</td>\n",
       "      <td>18732.0</td>\n",
       "      <td>20444.0</td>\n",
       "      <td>0.0</td>\n",
       "      <td>NaN</td>\n",
       "      <td>3.0</td>\n",
       "      <td>80.0</td>\n",
       "      <td>38.0</td>\n",
       "    </tr>\n",
       "    <tr>\n",
       "      <th>5863</th>\n",
       "      <td>20</td>\n",
       "      <td>5650000.0</td>\n",
       "      <td>45.0</td>\n",
       "      <td>2018-08-15T00:00:00</td>\n",
       "      <td>1</td>\n",
       "      <td>8.3</td>\n",
       "      <td>16.0</td>\n",
       "      <td>19.3</td>\n",
       "      <td>14</td>\n",
       "      <td>0</td>\n",
       "      <td>False</td>\n",
       "      <td>False</td>\n",
       "      <td>8.3</td>\n",
       "      <td>1</td>\n",
       "      <td>Санкт-Петербург</td>\n",
       "      <td>13069.0</td>\n",
       "      <td>10763.0</td>\n",
       "      <td>0.0</td>\n",
       "      <td>NaN</td>\n",
       "      <td>1.0</td>\n",
       "      <td>613.0</td>\n",
       "      <td>14.0</td>\n",
       "    </tr>\n",
       "    <tr>\n",
       "      <th>6246</th>\n",
       "      <td>6</td>\n",
       "      <td>3300000.0</td>\n",
       "      <td>44.4</td>\n",
       "      <td>2019-03-25T00:00:00</td>\n",
       "      <td>2</td>\n",
       "      <td>25.0</td>\n",
       "      <td>5.0</td>\n",
       "      <td>31.3</td>\n",
       "      <td>5</td>\n",
       "      <td>0</td>\n",
       "      <td>False</td>\n",
       "      <td>False</td>\n",
       "      <td>5.7</td>\n",
       "      <td>0</td>\n",
       "      <td>Кронштадт</td>\n",
       "      <td>68923.0</td>\n",
       "      <td>50649.0</td>\n",
       "      <td>1.0</td>\n",
       "      <td>417.0</td>\n",
       "      <td>2.0</td>\n",
       "      <td>73.0</td>\n",
       "      <td>NaN</td>\n",
       "    </tr>\n",
       "    <tr>\n",
       "      <th>9379</th>\n",
       "      <td>5</td>\n",
       "      <td>3950000.0</td>\n",
       "      <td>42.0</td>\n",
       "      <td>2017-03-26T00:00:00</td>\n",
       "      <td>3</td>\n",
       "      <td>25.0</td>\n",
       "      <td>5.0</td>\n",
       "      <td>30.0</td>\n",
       "      <td>2</td>\n",
       "      <td>0</td>\n",
       "      <td>False</td>\n",
       "      <td>False</td>\n",
       "      <td>5.2</td>\n",
       "      <td>0</td>\n",
       "      <td>Санкт-Петербург</td>\n",
       "      <td>11647.0</td>\n",
       "      <td>13581.0</td>\n",
       "      <td>0.0</td>\n",
       "      <td>NaN</td>\n",
       "      <td>0.0</td>\n",
       "      <td>NaN</td>\n",
       "      <td>NaN</td>\n",
       "    </tr>\n",
       "    <tr>\n",
       "      <th>10773</th>\n",
       "      <td>8</td>\n",
       "      <td>3800000.0</td>\n",
       "      <td>58.0</td>\n",
       "      <td>2017-10-13T00:00:00</td>\n",
       "      <td>2</td>\n",
       "      <td>27.0</td>\n",
       "      <td>10.0</td>\n",
       "      <td>30.1</td>\n",
       "      <td>3</td>\n",
       "      <td>0</td>\n",
       "      <td>False</td>\n",
       "      <td>False</td>\n",
       "      <td>8.1</td>\n",
       "      <td>2</td>\n",
       "      <td>поселок Мурино</td>\n",
       "      <td>NaN</td>\n",
       "      <td>NaN</td>\n",
       "      <td>NaN</td>\n",
       "      <td>NaN</td>\n",
       "      <td>NaN</td>\n",
       "      <td>NaN</td>\n",
       "      <td>71.0</td>\n",
       "    </tr>\n",
       "    <tr>\n",
       "      <th>11285</th>\n",
       "      <td>0</td>\n",
       "      <td>1950000.0</td>\n",
       "      <td>37.0</td>\n",
       "      <td>2019-03-20T00:00:00</td>\n",
       "      <td>1</td>\n",
       "      <td>25.0</td>\n",
       "      <td>5.0</td>\n",
       "      <td>17.0</td>\n",
       "      <td>4</td>\n",
       "      <td>0</td>\n",
       "      <td>False</td>\n",
       "      <td>False</td>\n",
       "      <td>9.0</td>\n",
       "      <td>2</td>\n",
       "      <td>Луга</td>\n",
       "      <td>NaN</td>\n",
       "      <td>NaN</td>\n",
       "      <td>NaN</td>\n",
       "      <td>NaN</td>\n",
       "      <td>NaN</td>\n",
       "      <td>NaN</td>\n",
       "      <td>18.0</td>\n",
       "    </tr>\n",
       "    <tr>\n",
       "      <th>14382</th>\n",
       "      <td>9</td>\n",
       "      <td>1700000.0</td>\n",
       "      <td>35.0</td>\n",
       "      <td>2015-12-04T00:00:00</td>\n",
       "      <td>1</td>\n",
       "      <td>25.0</td>\n",
       "      <td>5.0</td>\n",
       "      <td>20.0</td>\n",
       "      <td>2</td>\n",
       "      <td>0</td>\n",
       "      <td>False</td>\n",
       "      <td>False</td>\n",
       "      <td>8.0</td>\n",
       "      <td>1</td>\n",
       "      <td>поселок Новый Свет</td>\n",
       "      <td>NaN</td>\n",
       "      <td>NaN</td>\n",
       "      <td>NaN</td>\n",
       "      <td>NaN</td>\n",
       "      <td>NaN</td>\n",
       "      <td>NaN</td>\n",
       "      <td>206.0</td>\n",
       "    </tr>\n",
       "    <tr>\n",
       "      <th>15061</th>\n",
       "      <td>19</td>\n",
       "      <td>5600000.0</td>\n",
       "      <td>56.4</td>\n",
       "      <td>2018-05-11T00:00:00</td>\n",
       "      <td>2</td>\n",
       "      <td>14.0</td>\n",
       "      <td>14.0</td>\n",
       "      <td>32.4</td>\n",
       "      <td>5</td>\n",
       "      <td>0</td>\n",
       "      <td>False</td>\n",
       "      <td>False</td>\n",
       "      <td>9.1</td>\n",
       "      <td>2</td>\n",
       "      <td>Санкт-Петербург</td>\n",
       "      <td>14814.0</td>\n",
       "      <td>13610.0</td>\n",
       "      <td>0.0</td>\n",
       "      <td>NaN</td>\n",
       "      <td>0.0</td>\n",
       "      <td>NaN</td>\n",
       "      <td>315.0</td>\n",
       "    </tr>\n",
       "    <tr>\n",
       "      <th>15743</th>\n",
       "      <td>14</td>\n",
       "      <td>5600000.0</td>\n",
       "      <td>67.0</td>\n",
       "      <td>2016-11-11T00:00:00</td>\n",
       "      <td>3</td>\n",
       "      <td>8.0</td>\n",
       "      <td>16.0</td>\n",
       "      <td>41.0</td>\n",
       "      <td>1</td>\n",
       "      <td>0</td>\n",
       "      <td>False</td>\n",
       "      <td>False</td>\n",
       "      <td>8.0</td>\n",
       "      <td>0</td>\n",
       "      <td>Санкт-Петербург</td>\n",
       "      <td>32691.0</td>\n",
       "      <td>11035.0</td>\n",
       "      <td>1.0</td>\n",
       "      <td>723.0</td>\n",
       "      <td>0.0</td>\n",
       "      <td>NaN</td>\n",
       "      <td>474.0</td>\n",
       "    </tr>\n",
       "    <tr>\n",
       "      <th>17442</th>\n",
       "      <td>0</td>\n",
       "      <td>5350000.0</td>\n",
       "      <td>54.0</td>\n",
       "      <td>2015-06-16T00:00:00</td>\n",
       "      <td>2</td>\n",
       "      <td>8.0</td>\n",
       "      <td>5.0</td>\n",
       "      <td>29.0</td>\n",
       "      <td>2</td>\n",
       "      <td>0</td>\n",
       "      <td>False</td>\n",
       "      <td>False</td>\n",
       "      <td>NaN</td>\n",
       "      <td>1</td>\n",
       "      <td>Красное Село</td>\n",
       "      <td>24638.0</td>\n",
       "      <td>28062.0</td>\n",
       "      <td>0.0</td>\n",
       "      <td>NaN</td>\n",
       "      <td>0.0</td>\n",
       "      <td>NaN</td>\n",
       "      <td>469.0</td>\n",
       "    </tr>\n",
       "    <tr>\n",
       "      <th>17496</th>\n",
       "      <td>15</td>\n",
       "      <td>6700000.0</td>\n",
       "      <td>92.9</td>\n",
       "      <td>2019-02-19T00:00:00</td>\n",
       "      <td>3</td>\n",
       "      <td>20.0</td>\n",
       "      <td>17.0</td>\n",
       "      <td>53.2</td>\n",
       "      <td>14</td>\n",
       "      <td>0</td>\n",
       "      <td>False</td>\n",
       "      <td>False</td>\n",
       "      <td>12.0</td>\n",
       "      <td>5</td>\n",
       "      <td>Санкт-Петербург</td>\n",
       "      <td>16295.0</td>\n",
       "      <td>15092.0</td>\n",
       "      <td>1.0</td>\n",
       "      <td>967.0</td>\n",
       "      <td>0.0</td>\n",
       "      <td>NaN</td>\n",
       "      <td>NaN</td>\n",
       "    </tr>\n",
       "    <tr>\n",
       "      <th>17857</th>\n",
       "      <td>1</td>\n",
       "      <td>3900000.0</td>\n",
       "      <td>56.0</td>\n",
       "      <td>2017-12-22T00:00:00</td>\n",
       "      <td>3</td>\n",
       "      <td>27.0</td>\n",
       "      <td>5.0</td>\n",
       "      <td>33.0</td>\n",
       "      <td>4</td>\n",
       "      <td>0</td>\n",
       "      <td>False</td>\n",
       "      <td>False</td>\n",
       "      <td>NaN</td>\n",
       "      <td>0</td>\n",
       "      <td>Санкт-Петербург</td>\n",
       "      <td>41030.0</td>\n",
       "      <td>15543.0</td>\n",
       "      <td>0.0</td>\n",
       "      <td>NaN</td>\n",
       "      <td>0.0</td>\n",
       "      <td>NaN</td>\n",
       "      <td>73.0</td>\n",
       "    </tr>\n",
       "    <tr>\n",
       "      <th>18545</th>\n",
       "      <td>6</td>\n",
       "      <td>3750000.0</td>\n",
       "      <td>43.0</td>\n",
       "      <td>2019-03-18T00:00:00</td>\n",
       "      <td>2</td>\n",
       "      <td>25.0</td>\n",
       "      <td>5.0</td>\n",
       "      <td>29.0</td>\n",
       "      <td>3</td>\n",
       "      <td>0</td>\n",
       "      <td>False</td>\n",
       "      <td>False</td>\n",
       "      <td>NaN</td>\n",
       "      <td>0</td>\n",
       "      <td>Санкт-Петербург</td>\n",
       "      <td>27054.0</td>\n",
       "      <td>8033.0</td>\n",
       "      <td>1.0</td>\n",
       "      <td>540.0</td>\n",
       "      <td>0.0</td>\n",
       "      <td>NaN</td>\n",
       "      <td>12.0</td>\n",
       "    </tr>\n",
       "    <tr>\n",
       "      <th>20478</th>\n",
       "      <td>11</td>\n",
       "      <td>8000000.0</td>\n",
       "      <td>45.0</td>\n",
       "      <td>2017-07-18T00:00:00</td>\n",
       "      <td>1</td>\n",
       "      <td>27.0</td>\n",
       "      <td>4.0</td>\n",
       "      <td>22.0</td>\n",
       "      <td>2</td>\n",
       "      <td>0</td>\n",
       "      <td>False</td>\n",
       "      <td>False</td>\n",
       "      <td>10.0</td>\n",
       "      <td>1</td>\n",
       "      <td>Санкт-Петербург</td>\n",
       "      <td>18975.0</td>\n",
       "      <td>3246.0</td>\n",
       "      <td>0.0</td>\n",
       "      <td>NaN</td>\n",
       "      <td>3.0</td>\n",
       "      <td>449.0</td>\n",
       "      <td>429.0</td>\n",
       "    </tr>\n",
       "    <tr>\n",
       "      <th>20507</th>\n",
       "      <td>12</td>\n",
       "      <td>5950000.0</td>\n",
       "      <td>60.0</td>\n",
       "      <td>2018-02-19T00:00:00</td>\n",
       "      <td>2</td>\n",
       "      <td>22.6</td>\n",
       "      <td>14.0</td>\n",
       "      <td>35.0</td>\n",
       "      <td>11</td>\n",
       "      <td>0</td>\n",
       "      <td>False</td>\n",
       "      <td>False</td>\n",
       "      <td>13.0</td>\n",
       "      <td>1</td>\n",
       "      <td>Санкт-Петербург</td>\n",
       "      <td>27028.0</td>\n",
       "      <td>12570.0</td>\n",
       "      <td>0.0</td>\n",
       "      <td>NaN</td>\n",
       "      <td>0.0</td>\n",
       "      <td>NaN</td>\n",
       "      <td>40.0</td>\n",
       "    </tr>\n",
       "    <tr>\n",
       "      <th>21377</th>\n",
       "      <td>19</td>\n",
       "      <td>4900000.0</td>\n",
       "      <td>42.0</td>\n",
       "      <td>2017-04-18T00:00:00</td>\n",
       "      <td>1</td>\n",
       "      <td>27.5</td>\n",
       "      <td>24.0</td>\n",
       "      <td>37.7</td>\n",
       "      <td>19</td>\n",
       "      <td>0</td>\n",
       "      <td>False</td>\n",
       "      <td>False</td>\n",
       "      <td>11.0</td>\n",
       "      <td>2</td>\n",
       "      <td>Санкт-Петербург</td>\n",
       "      <td>42742.0</td>\n",
       "      <td>9760.0</td>\n",
       "      <td>0.0</td>\n",
       "      <td>NaN</td>\n",
       "      <td>0.0</td>\n",
       "      <td>NaN</td>\n",
       "      <td>61.0</td>\n",
       "    </tr>\n",
       "    <tr>\n",
       "      <th>21824</th>\n",
       "      <td>20</td>\n",
       "      <td>2450000.0</td>\n",
       "      <td>44.0</td>\n",
       "      <td>2019-02-12T00:00:00</td>\n",
       "      <td>2</td>\n",
       "      <td>27.0</td>\n",
       "      <td>2.0</td>\n",
       "      <td>38.0</td>\n",
       "      <td>2</td>\n",
       "      <td>0</td>\n",
       "      <td>False</td>\n",
       "      <td>False</td>\n",
       "      <td>8.6</td>\n",
       "      <td>2</td>\n",
       "      <td>поселок Большая Ижора</td>\n",
       "      <td>NaN</td>\n",
       "      <td>NaN</td>\n",
       "      <td>NaN</td>\n",
       "      <td>NaN</td>\n",
       "      <td>NaN</td>\n",
       "      <td>NaN</td>\n",
       "      <td>NaN</td>\n",
       "    </tr>\n",
       "    <tr>\n",
       "      <th>22309</th>\n",
       "      <td>20</td>\n",
       "      <td>5300000.0</td>\n",
       "      <td>45.0</td>\n",
       "      <td>2017-09-30T00:00:00</td>\n",
       "      <td>1</td>\n",
       "      <td>10.3</td>\n",
       "      <td>16.0</td>\n",
       "      <td>15.5</td>\n",
       "      <td>15</td>\n",
       "      <td>0</td>\n",
       "      <td>False</td>\n",
       "      <td>False</td>\n",
       "      <td>NaN</td>\n",
       "      <td>0</td>\n",
       "      <td>Санкт-Петербург</td>\n",
       "      <td>36353.0</td>\n",
       "      <td>11936.0</td>\n",
       "      <td>2.0</td>\n",
       "      <td>440.0</td>\n",
       "      <td>2.0</td>\n",
       "      <td>450.0</td>\n",
       "      <td>136.0</td>\n",
       "    </tr>\n",
       "    <tr>\n",
       "      <th>22336</th>\n",
       "      <td>19</td>\n",
       "      <td>9999000.0</td>\n",
       "      <td>92.4</td>\n",
       "      <td>2019-04-05T00:00:00</td>\n",
       "      <td>2</td>\n",
       "      <td>32.0</td>\n",
       "      <td>6.0</td>\n",
       "      <td>55.5</td>\n",
       "      <td>5</td>\n",
       "      <td>0</td>\n",
       "      <td>False</td>\n",
       "      <td>False</td>\n",
       "      <td>16.5</td>\n",
       "      <td>4</td>\n",
       "      <td>Санкт-Петербург</td>\n",
       "      <td>18838.0</td>\n",
       "      <td>3506.0</td>\n",
       "      <td>0.0</td>\n",
       "      <td>NaN</td>\n",
       "      <td>3.0</td>\n",
       "      <td>511.0</td>\n",
       "      <td>NaN</td>\n",
       "    </tr>\n",
       "    <tr>\n",
       "      <th>22869</th>\n",
       "      <td>0</td>\n",
       "      <td>15000000.0</td>\n",
       "      <td>25.0</td>\n",
       "      <td>2018-07-25T00:00:00</td>\n",
       "      <td>1</td>\n",
       "      <td>100.0</td>\n",
       "      <td>5.0</td>\n",
       "      <td>14.0</td>\n",
       "      <td>5</td>\n",
       "      <td>1</td>\n",
       "      <td>False</td>\n",
       "      <td>False</td>\n",
       "      <td>11.0</td>\n",
       "      <td>5</td>\n",
       "      <td>Санкт-Петербург</td>\n",
       "      <td>34963.0</td>\n",
       "      <td>8283.0</td>\n",
       "      <td>1.0</td>\n",
       "      <td>223.0</td>\n",
       "      <td>3.0</td>\n",
       "      <td>30.0</td>\n",
       "      <td>19.0</td>\n",
       "    </tr>\n",
       "    <tr>\n",
       "      <th>22938</th>\n",
       "      <td>14</td>\n",
       "      <td>4000000.0</td>\n",
       "      <td>98.0</td>\n",
       "      <td>2018-03-15T00:00:00</td>\n",
       "      <td>4</td>\n",
       "      <td>27.0</td>\n",
       "      <td>2.0</td>\n",
       "      <td>73.0</td>\n",
       "      <td>2</td>\n",
       "      <td>1</td>\n",
       "      <td>False</td>\n",
       "      <td>False</td>\n",
       "      <td>9.0</td>\n",
       "      <td>1</td>\n",
       "      <td>деревня Нижняя</td>\n",
       "      <td>NaN</td>\n",
       "      <td>NaN</td>\n",
       "      <td>NaN</td>\n",
       "      <td>NaN</td>\n",
       "      <td>NaN</td>\n",
       "      <td>NaN</td>\n",
       "      <td>27.0</td>\n",
       "    </tr>\n",
       "  </tbody>\n",
       "</table>\n",
       "</div>"
      ],
      "text/plain": [
       "       total_images  last_price  total_area first_day_exposition  rooms  \\\n",
       "355              17   3600000.0        55.2  2018-07-12T00:00:00      2   \n",
       "3148             14   2900000.0        75.0  2018-11-12T00:00:00      3   \n",
       "3474              3   1400000.0        30.0  2018-03-16T00:00:00      1   \n",
       "4643              0   4300000.0        45.0  2018-02-01T00:00:00      2   \n",
       "4876              7   3000000.0        25.0  2017-09-27T00:00:00      0   \n",
       "5076              0   3850000.0        30.5  2018-10-03T00:00:00      1   \n",
       "5246              0   2500000.0        54.0  2017-10-13T00:00:00      2   \n",
       "5669              4   4400000.0        50.0  2017-08-08T00:00:00      2   \n",
       "5807             17   8150000.0        80.0  2019-01-09T00:00:00      2   \n",
       "5863             20   5650000.0        45.0  2018-08-15T00:00:00      1   \n",
       "6246              6   3300000.0        44.4  2019-03-25T00:00:00      2   \n",
       "9379              5   3950000.0        42.0  2017-03-26T00:00:00      3   \n",
       "10773             8   3800000.0        58.0  2017-10-13T00:00:00      2   \n",
       "11285             0   1950000.0        37.0  2019-03-20T00:00:00      1   \n",
       "14382             9   1700000.0        35.0  2015-12-04T00:00:00      1   \n",
       "15061            19   5600000.0        56.4  2018-05-11T00:00:00      2   \n",
       "15743            14   5600000.0        67.0  2016-11-11T00:00:00      3   \n",
       "17442             0   5350000.0        54.0  2015-06-16T00:00:00      2   \n",
       "17496            15   6700000.0        92.9  2019-02-19T00:00:00      3   \n",
       "17857             1   3900000.0        56.0  2017-12-22T00:00:00      3   \n",
       "18545             6   3750000.0        43.0  2019-03-18T00:00:00      2   \n",
       "20478            11   8000000.0        45.0  2017-07-18T00:00:00      1   \n",
       "20507            12   5950000.0        60.0  2018-02-19T00:00:00      2   \n",
       "21377            19   4900000.0        42.0  2017-04-18T00:00:00      1   \n",
       "21824            20   2450000.0        44.0  2019-02-12T00:00:00      2   \n",
       "22309            20   5300000.0        45.0  2017-09-30T00:00:00      1   \n",
       "22336            19   9999000.0        92.4  2019-04-05T00:00:00      2   \n",
       "22869             0  15000000.0        25.0  2018-07-25T00:00:00      1   \n",
       "22938            14   4000000.0        98.0  2018-03-15T00:00:00      4   \n",
       "\n",
       "       ceiling_height  floors_total  living_area  floor  is_apartment  \\\n",
       "355              25.0           5.0         32.0      2             0   \n",
       "3148             32.0           3.0         53.0      2             0   \n",
       "3474              8.0           5.0         15.3      2             0   \n",
       "4643             25.0           9.0         30.0      2             0   \n",
       "4876             27.0          25.0         17.0     17             0   \n",
       "5076             24.0           5.0         19.5      1             1   \n",
       "5246             27.0           5.0         30.0      3             0   \n",
       "5669             26.0           9.0         21.3      3             0   \n",
       "5807             27.0          36.0         41.0     13             0   \n",
       "5863              8.3          16.0         19.3     14             0   \n",
       "6246             25.0           5.0         31.3      5             0   \n",
       "9379             25.0           5.0         30.0      2             0   \n",
       "10773            27.0          10.0         30.1      3             0   \n",
       "11285            25.0           5.0         17.0      4             0   \n",
       "14382            25.0           5.0         20.0      2             0   \n",
       "15061            14.0          14.0         32.4      5             0   \n",
       "15743             8.0          16.0         41.0      1             0   \n",
       "17442             8.0           5.0         29.0      2             0   \n",
       "17496            20.0          17.0         53.2     14             0   \n",
       "17857            27.0           5.0         33.0      4             0   \n",
       "18545            25.0           5.0         29.0      3             0   \n",
       "20478            27.0           4.0         22.0      2             0   \n",
       "20507            22.6          14.0         35.0     11             0   \n",
       "21377            27.5          24.0         37.7     19             0   \n",
       "21824            27.0           2.0         38.0      2             0   \n",
       "22309            10.3          16.0         15.5     15             0   \n",
       "22336            32.0           6.0         55.5      5             0   \n",
       "22869           100.0           5.0         14.0      5             1   \n",
       "22938            27.0           2.0         73.0      2             1   \n",
       "\n",
       "       is_studio  is_open_plan  kitchen_area  balcony          locality_name  \\\n",
       "355        False         False           NaN        2                Гатчина   \n",
       "3148       False         False           8.0        0                 Волхов   \n",
       "3474       False         False           7.3        0          деревня Нурма   \n",
       "4643       False         False           7.0        1        Санкт-Петербург   \n",
       "4876       False          True           NaN        2         поселок Мурино   \n",
       "5076       False         False           5.5        0        Санкт-Петербург   \n",
       "5246       False         False           9.0        2           деревня Мины   \n",
       "5669       False         False           7.0        2        Санкт-Петербург   \n",
       "5807       False         False          12.0        5        Санкт-Петербург   \n",
       "5863       False         False           8.3        1        Санкт-Петербург   \n",
       "6246       False         False           5.7        0              Кронштадт   \n",
       "9379       False         False           5.2        0        Санкт-Петербург   \n",
       "10773      False         False           8.1        2         поселок Мурино   \n",
       "11285      False         False           9.0        2                   Луга   \n",
       "14382      False         False           8.0        1     поселок Новый Свет   \n",
       "15061      False         False           9.1        2        Санкт-Петербург   \n",
       "15743      False         False           8.0        0        Санкт-Петербург   \n",
       "17442      False         False           NaN        1           Красное Село   \n",
       "17496      False         False          12.0        5        Санкт-Петербург   \n",
       "17857      False         False           NaN        0        Санкт-Петербург   \n",
       "18545      False         False           NaN        0        Санкт-Петербург   \n",
       "20478      False         False          10.0        1        Санкт-Петербург   \n",
       "20507      False         False          13.0        1        Санкт-Петербург   \n",
       "21377      False         False          11.0        2        Санкт-Петербург   \n",
       "21824      False         False           8.6        2  поселок Большая Ижора   \n",
       "22309      False         False           NaN        0        Санкт-Петербург   \n",
       "22336      False         False          16.5        4        Санкт-Петербург   \n",
       "22869      False         False          11.0        5        Санкт-Петербург   \n",
       "22938      False         False           9.0        1         деревня Нижняя   \n",
       "\n",
       "       airports_nearest  city_center_nearest  parks_around_3000m  \\\n",
       "355                 NaN                  NaN                 NaN   \n",
       "3148                NaN                  NaN                 NaN   \n",
       "3474                NaN                  NaN                 NaN   \n",
       "4643            12016.0              13256.0                 1.0   \n",
       "4876                NaN                  NaN                 NaN   \n",
       "5076            29686.0               8389.0                 3.0   \n",
       "5246                NaN                  NaN                 NaN   \n",
       "5669            28981.0              10912.0                 1.0   \n",
       "5807            18732.0              20444.0                 0.0   \n",
       "5863            13069.0              10763.0                 0.0   \n",
       "6246            68923.0              50649.0                 1.0   \n",
       "9379            11647.0              13581.0                 0.0   \n",
       "10773               NaN                  NaN                 NaN   \n",
       "11285               NaN                  NaN                 NaN   \n",
       "14382               NaN                  NaN                 NaN   \n",
       "15061           14814.0              13610.0                 0.0   \n",
       "15743           32691.0              11035.0                 1.0   \n",
       "17442           24638.0              28062.0                 0.0   \n",
       "17496           16295.0              15092.0                 1.0   \n",
       "17857           41030.0              15543.0                 0.0   \n",
       "18545           27054.0               8033.0                 1.0   \n",
       "20478           18975.0               3246.0                 0.0   \n",
       "20507           27028.0              12570.0                 0.0   \n",
       "21377           42742.0               9760.0                 0.0   \n",
       "21824               NaN                  NaN                 NaN   \n",
       "22309           36353.0              11936.0                 2.0   \n",
       "22336           18838.0               3506.0                 0.0   \n",
       "22869           34963.0               8283.0                 1.0   \n",
       "22938               NaN                  NaN                 NaN   \n",
       "\n",
       "       parks_nearest  ponds_around_3000m  ponds_nearest  days_exposition  \n",
       "355              NaN                 NaN            NaN            259.0  \n",
       "3148             NaN                 NaN            NaN              NaN  \n",
       "3474             NaN                 NaN            NaN            125.0  \n",
       "4643           658.0                 1.0          331.0            181.0  \n",
       "4876             NaN                 NaN            NaN             28.0  \n",
       "5076           397.0                 1.0          578.0              7.0  \n",
       "5246             NaN                 NaN            NaN            540.0  \n",
       "5669           305.0                 0.0            NaN            267.0  \n",
       "5807             NaN                 3.0           80.0             38.0  \n",
       "5863             NaN                 1.0          613.0             14.0  \n",
       "6246           417.0                 2.0           73.0              NaN  \n",
       "9379             NaN                 0.0            NaN              NaN  \n",
       "10773            NaN                 NaN            NaN             71.0  \n",
       "11285            NaN                 NaN            NaN             18.0  \n",
       "14382            NaN                 NaN            NaN            206.0  \n",
       "15061            NaN                 0.0            NaN            315.0  \n",
       "15743          723.0                 0.0            NaN            474.0  \n",
       "17442            NaN                 0.0            NaN            469.0  \n",
       "17496          967.0                 0.0            NaN              NaN  \n",
       "17857            NaN                 0.0            NaN             73.0  \n",
       "18545          540.0                 0.0            NaN             12.0  \n",
       "20478            NaN                 3.0          449.0            429.0  \n",
       "20507            NaN                 0.0            NaN             40.0  \n",
       "21377            NaN                 0.0            NaN             61.0  \n",
       "21824            NaN                 NaN            NaN              NaN  \n",
       "22309          440.0                 2.0          450.0            136.0  \n",
       "22336            NaN                 3.0          511.0              NaN  \n",
       "22869          223.0                 3.0           30.0             19.0  \n",
       "22938            NaN                 NaN            NaN             27.0  "
      ]
     },
     "execution_count": 18,
     "metadata": {},
     "output_type": "execute_result"
    }
   ],
   "source": [
    "data[data['ceiling_height'] > 6]"
   ]
  },
  {
   "cell_type": "markdown",
   "metadata": {},
   "source": [
    "Видно, что данные заполненны некорректно. Скорее всего была ошибка при заполнении и неправильно поставлена точка. Также, есть несколько строк со значением 8.0 и 100. В этих строках некоторые данные тоже заполнены некорректно. Удалим эти строки, а остальные обработаем.\n"
   ]
  },
  {
   "cell_type": "markdown",
   "metadata": {},
   "source": [
    "### Исправим неккоректные значения"
   ]
  },
  {
   "cell_type": "code",
   "execution_count": 19,
   "metadata": {},
   "outputs": [],
   "source": [
    "# Заполним пропуски медианым значением в зависимости от этажности здания\n",
    "data['ceiling_height'] = data['ceiling_height'].fillna(data.groupby('floors_total')['ceiling_height'].transform('median'))\n",
    "# Разделяем значения от 8 до 100 на 10\n",
    "data.loc[(data['ceiling_height'] >= 8.3) & (data['ceiling_height'] <= 100), 'ceiling_height'] /= 10\n",
    "# Удаляем всё, что >= 8\n",
    "data = data[data['ceiling_height'] < 8]"
   ]
  },
  {
   "cell_type": "markdown",
   "metadata": {},
   "source": [
    "Минимальная высота потолков в квартире должна составлять 2.4м (СНиП 31-01-2003). "
   ]
  },
  {
   "cell_type": "markdown",
   "metadata": {},
   "source": [
    "### Выясним количество недвижимости с потолками ниже 2.4м."
   ]
  },
  {
   "cell_type": "code",
   "execution_count": 20,
   "metadata": {},
   "outputs": [
    {
     "data": {
      "text/plain": [
       "27"
      ]
     },
     "execution_count": 20,
     "metadata": {},
     "output_type": "execute_result"
    }
   ],
   "source": [
    "data[data['ceiling_height'] < 2.4]['ceiling_height'].count()"
   ]
  },
  {
   "cell_type": "markdown",
   "metadata": {},
   "source": [
    "### Удалим строки с неккоректными значениями"
   ]
  },
  {
   "cell_type": "code",
   "execution_count": 21,
   "metadata": {},
   "outputs": [],
   "source": [
    "data = data[data['ceiling_height'] >= 2.4]"
   ]
  },
  {
   "cell_type": "markdown",
   "metadata": {},
   "source": [
    "В квартирах с разной общей площадью доли жилой и площадью кухни отличаются. Например, в студиях кухня и жилая площадь могут быть объединены. В больших квартирах кухня занимает меньший процент, а жилая — больше. Учитывая зависимость этих параметров от общей площади, найдем медианную долю living_area и kitchen_area."
   ]
  },
  {
   "cell_type": "markdown",
   "metadata": {},
   "source": [
    "## Посчитаем долю жилой и кухонной площади относительно общей и заполним пропуски"
   ]
  },
  {
   "cell_type": "code",
   "execution_count": 22,
   "metadata": {},
   "outputs": [],
   "source": [
    "# Считаем медианное значение доли жилой зоны\n",
    "living_median_ratio = (data['living_area'] / data['total_area']).median()\n",
    "# Заполняем пропуски\n",
    "data.loc[data['living_area'].isna(), 'living_area'] = data['total_area'] * living_median_ratio\n",
    "\n",
    "# Считаем медианное значение доли кухонной зоны\n",
    "kitchen_median_ratio = (data['kitchen_area'] / data['total_area']).median()\n",
    "# Заполняем пропуски\n",
    "data.loc[data['kitchen_area'].isna(), 'kitchen_area'] = data['total_area'] * kitchen_median_ratio"
   ]
  },
  {
   "cell_type": "markdown",
   "metadata": {},
   "source": [
    "**Проверим количество пропусков на данный момент**"
   ]
  },
  {
   "cell_type": "code",
   "execution_count": 23,
   "metadata": {},
   "outputs": [
    {
     "data": {
      "text/plain": [
       "total_images                0\n",
       "last_price                  0\n",
       "total_area                  0\n",
       "first_day_exposition        0\n",
       "rooms                       0\n",
       "ceiling_height              0\n",
       "floors_total                9\n",
       "living_area                 0\n",
       "floor                       0\n",
       "is_apartment                0\n",
       "is_studio                   0\n",
       "is_open_plan                0\n",
       "kitchen_area                0\n",
       "balcony                     0\n",
       "locality_name               0\n",
       "airports_nearest         5509\n",
       "city_center_nearest      5486\n",
       "parks_around_3000m       5485\n",
       "parks_nearest           15518\n",
       "ponds_around_3000m       5485\n",
       "ponds_nearest           14510\n",
       "days_exposition          3170\n",
       "dtype: int64"
      ]
     },
     "execution_count": 23,
     "metadata": {},
     "output_type": "execute_result"
    }
   ],
   "source": [
    "data.isna().sum()"
   ]
  },
  {
   "cell_type": "markdown",
   "metadata": {},
   "source": [
    "В столбцах: airports_nearest, city_center_nearest, parks_around_3000m, parks_nearest, ponds_around_3000m, ponds_nearest, days_exposition       \n",
    "данные собраны автоматически. Пропуски в days_exposition означают, что объявление еще актуально. В остальных признаках лучше оставить NaN, потому что пропуски в этом случае могут нести смысловую нагрузку (отсутствие объектов рядом). Заполнение медианой или средним значением приведет к потере полезной информации."
   ]
  },
  {
   "cell_type": "markdown",
   "metadata": {},
   "source": [
    "Также, осталось 9 пропусков в floors_total. Они составляют менее 0.1% от общего числа. Это крайне малое значение и можно пренебречь этими данными."
   ]
  },
  {
   "cell_type": "markdown",
   "metadata": {},
   "source": [
    "## Удалим пропуски в floors_total"
   ]
  },
  {
   "cell_type": "code",
   "execution_count": 24,
   "metadata": {},
   "outputs": [],
   "source": [
    "data = data.dropna(subset=['floors_total'])"
   ]
  },
  {
   "cell_type": "markdown",
   "metadata": {},
   "source": [
    "## Изменим типы данных в некоторых столбцах"
   ]
  },
  {
   "cell_type": "code",
   "execution_count": 25,
   "metadata": {},
   "outputs": [],
   "source": [
    "data = data.astype({'is_studio': 'int64', 'is_open_plan': 'int64', 'floors_total': 'int64'})"
   ]
  },
  {
   "cell_type": "markdown",
   "metadata": {},
   "source": [
    "Мы изменили в is_studio и is_open_plan тип данных с булевого на целочисленный для работы с графиками, а в floors_total на целочисленный, так как количество этажей не может быть дробным числом."
   ]
  },
  {
   "cell_type": "markdown",
   "metadata": {},
   "source": [
    "### Переведем first_day_exposition в формат datetime"
   ]
  },
  {
   "cell_type": "code",
   "execution_count": 26,
   "metadata": {},
   "outputs": [],
   "source": [
    "data['first_day_exposition'] = pd.to_datetime(data['first_day_exposition'], format='%Y-%m-%dT%H:%M:%S')"
   ]
  },
  {
   "cell_type": "markdown",
   "metadata": {},
   "source": [
    "## Обработаем аномалии в total_area"
   ]
  },
  {
   "cell_type": "markdown",
   "metadata": {},
   "source": [
    "Согласно СНиП 31-01-2003 минимальная площадь жилой комнаты в однокомнатной квартире — 14 м², также допускается проектировать кухни или кухни-ниши площадью не менее 5 м². Соответственно, если учитывать площадь сан-узла и коридоров, то общая площадь квартиры не должна быть меньше 19 м² + 10% от общей площади. \n",
    "Данные требования учитываются на этапах строительства, но жильцы могут сделать перепланировку. Поэтому мы отбросим те квартиры, где жилая и площадь кухни превышает общую + 10%.\n",
    "Остальные выбросы обработаем на этапе анализа."
   ]
  },
  {
   "cell_type": "markdown",
   "metadata": {},
   "source": [
    "### Выведем количество квартир, площадь которых менее 19 м² и у которых площадь кухни и жалая больше общей и удалим их"
   ]
  },
  {
   "cell_type": "code",
   "execution_count": 27,
   "metadata": {},
   "outputs": [
    {
     "name": "stdout",
     "output_type": "stream",
     "text": [
      "Найдено 648 некорректных квартир\n"
     ]
    }
   ],
   "source": [
    "# Фильтр для поиска некорректных значений\n",
    "invalid_flats = data[\n",
    "    (data['is_apartment'] == False) & \n",
    "    (data['total_area'] < 19) | \n",
    "    (data['living_area'] + data['kitchen_area'] > data['total_area'] * 0.9)  # Учитываем 10% на коридоры и санузел\n",
    "]\n",
    "\n",
    "# Вывод количества найденных строк\n",
    "print(f\"Найдено {invalid_flats.shape[0]} некорректных квартир\")\n",
    "\n",
    "# Удаление таких строк\n",
    "data = data.drop(invalid_flats.index).reset_index(drop=True)"
   ]
  },
  {
   "cell_type": "markdown",
   "metadata": {},
   "source": [
    "Самое высокое жилое здание в Санкт-Петербурге имеет 37 этажей. Если есть объявления, в которых указано, что это квартира и она находится выше 37 этажа, то, скорее всего, это апартаменты, которые продается под видом жилой недвижимости. "
   ]
  },
  {
   "cell_type": "markdown",
   "metadata": {},
   "source": [
    "## Проверим, есть ли квартиры выше 37 этажа и удалим, если такие имеются"
   ]
  },
  {
   "cell_type": "code",
   "execution_count": 28,
   "metadata": {},
   "outputs": [
    {
     "data": {
      "text/html": [
       "<div>\n",
       "<style scoped>\n",
       "    .dataframe tbody tr th:only-of-type {\n",
       "        vertical-align: middle;\n",
       "    }\n",
       "\n",
       "    .dataframe tbody tr th {\n",
       "        vertical-align: top;\n",
       "    }\n",
       "\n",
       "    .dataframe thead th {\n",
       "        text-align: right;\n",
       "    }\n",
       "</style>\n",
       "<table border=\"1\" class=\"dataframe\">\n",
       "  <thead>\n",
       "    <tr style=\"text-align: right;\">\n",
       "      <th></th>\n",
       "      <th>total_images</th>\n",
       "      <th>last_price</th>\n",
       "      <th>total_area</th>\n",
       "      <th>first_day_exposition</th>\n",
       "      <th>rooms</th>\n",
       "      <th>ceiling_height</th>\n",
       "      <th>floors_total</th>\n",
       "      <th>living_area</th>\n",
       "      <th>floor</th>\n",
       "      <th>is_apartment</th>\n",
       "      <th>is_studio</th>\n",
       "      <th>is_open_plan</th>\n",
       "      <th>kitchen_area</th>\n",
       "      <th>balcony</th>\n",
       "      <th>locality_name</th>\n",
       "      <th>airports_nearest</th>\n",
       "      <th>city_center_nearest</th>\n",
       "      <th>parks_around_3000m</th>\n",
       "      <th>parks_nearest</th>\n",
       "      <th>ponds_around_3000m</th>\n",
       "      <th>ponds_nearest</th>\n",
       "      <th>days_exposition</th>\n",
       "    </tr>\n",
       "  </thead>\n",
       "  <tbody>\n",
       "  </tbody>\n",
       "</table>\n",
       "</div>"
      ],
      "text/plain": [
       "Empty DataFrame\n",
       "Columns: [total_images, last_price, total_area, first_day_exposition, rooms, ceiling_height, floors_total, living_area, floor, is_apartment, is_studio, is_open_plan, kitchen_area, balcony, locality_name, airports_nearest, city_center_nearest, parks_around_3000m, parks_nearest, ponds_around_3000m, ponds_nearest, days_exposition]\n",
       "Index: []"
      ]
     },
     "execution_count": 28,
     "metadata": {},
     "output_type": "execute_result"
    }
   ],
   "source": [
    "data[data['floor'] > 37]"
   ]
  },
  {
   "cell_type": "markdown",
   "metadata": {},
   "source": [
    "**Вывод**\n"
   ]
  },
  {
   "cell_type": "markdown",
   "metadata": {},
   "source": [
    "Были найдены и изучены пропущенные значения в столбцах. Заполнены пропущенные значения там, где это возможно. Приведены названия к общей стилистике. Преобразованны типы данных в некоторых столбцах и обработаны аномалии."
   ]
  },
  {
   "cell_type": "markdown",
   "metadata": {
    "id": "QCcvyY6YAwb-"
   },
   "source": [
    "# Добавление в таблицу новых столбцов"
   ]
  },
  {
   "cell_type": "markdown",
   "metadata": {
    "id": "Z8eJek3IAwb-"
   },
   "source": [
    "## Добавим цену за один квадратный метр"
   ]
  },
  {
   "cell_type": "code",
   "execution_count": 29,
   "metadata": {},
   "outputs": [],
   "source": [
    "data['square_meter_price'] = round(data['last_price'] / data['total_area'], 2)"
   ]
  },
  {
   "cell_type": "markdown",
   "metadata": {},
   "source": [
    "## Добавим день публикации объявления, месяц и год"
   ]
  },
  {
   "cell_type": "code",
   "execution_count": 30,
   "metadata": {},
   "outputs": [],
   "source": [
    "# День недели\n",
    "data['weekday'] = pd.to_datetime(data['first_day_exposition']).dt.weekday\n",
    "# Месяц\n",
    "data['month'] = pd.to_datetime(data['first_day_exposition']).dt.month\n",
    "# Год\n",
    "data['year'] = pd.to_datetime(data['first_day_exposition']).dt.year"
   ]
  },
  {
   "cell_type": "markdown",
   "metadata": {},
   "source": [
    "## Добавим столбец с типом этажа"
   ]
  },
  {
   "cell_type": "code",
   "execution_count": 31,
   "metadata": {},
   "outputs": [],
   "source": [
    "def floor_type(row):\n",
    "    \"\"\"Функция возвращает тип этажа квартиры\"\"\"\n",
    "    if row[\"floor\"] == 1:\n",
    "        return \"первый\"\n",
    "    elif row[\"floor\"] == row[\"floors_total\"]:\n",
    "        return \"последний\"\n",
    "    else:\n",
    "        return \"другой\"\n",
    "\n",
    "data[\"floor_type\"] = data.apply(floor_type, axis=1)"
   ]
  },
  {
   "cell_type": "markdown",
   "metadata": {},
   "source": [
    "## Добавим расстояние до центра города в км"
   ]
  },
  {
   "cell_type": "code",
   "execution_count": 32,
   "metadata": {},
   "outputs": [],
   "source": [
    "data['distance_to_center'] = (data['city_center_nearest'] / 1000).round()"
   ]
  },
  {
   "cell_type": "markdown",
   "metadata": {
    "id": "pPyxrKWTAwb-"
   },
   "source": [
    "# Исследовательский анализ данных"
   ]
  },
  {
   "cell_type": "markdown",
   "metadata": {
    "id": "V2f0D3kLAwb-"
   },
   "source": [
    "## Определим функцию для построения гистограммы по определенному параметру и вывода основной статистики"
   ]
  },
  {
   "cell_type": "code",
   "execution_count": 33,
   "metadata": {},
   "outputs": [],
   "source": [
    "def show_hist(data, column, bins=30):\n",
    "    \"\"\"\n",
    "    Строит гистограмму и boxplot для указанного столбца DataFrame, \n",
    "    выводит основные статистические параметры, отмечает 99-й перцентиль,\n",
    "    а также показывает количество значений, превышающих 99-й перцентиль, и их долю.\n",
    "\n",
    "    params:\n",
    "    data (DataFrame): Исходный датафрейм.\n",
    "    column (str): Название столбца для анализа.\n",
    "    bins (int, optional): Количество бинов гистограммы. По умолчанию 30.\n",
    "\n",
    "    return:\n",
    "    None\n",
    "    \"\"\"\n",
    "    # Вычисление статистики\n",
    "    percentile_99 = data[column].quantile(0.99)\n",
    "    count_above_99 = data[data[column] > percentile_99][column].count()\n",
    "    total_count = data[column].count()\n",
    "    proportion_above_99 = count_above_99 / total_count\n",
    "    \n",
    "    print(f\"\\nСтатистика для '{column}':\")\n",
    "    print(f\"Количество значений: {total_count}\")\n",
    "    print(f\"Минимум: {data[column].min()}\")\n",
    "    print(f\"Максимум: {data[column].max()}\")\n",
    "    print(f\"Среднее: {data[column].mean():.2f}\")\n",
    "    print(f\"Медиана: {data[column].median():.2f}\")\n",
    "    print(f\"Стандартное отклонение: {data[column].std():.2f}\")\n",
    "    print(f\"99-й перцентиль: {percentile_99:.2f}\")\n",
    "    print(f\"Количество значений выше 99-го перцентиля: {count_above_99}\")\n",
    "    print(f\"Доля значений выше 99-го перцентиля: {proportion_above_99:.2%}\")\n",
    "\n",
    "    # Создаём фигуру с 2 графиками: гистограмма + boxplot\n",
    "    fig, axes = plt.subplots(2, 1, figsize=(10, 8), gridspec_kw={'height_ratios': [3, 1]})\n",
    "\n",
    "    # Гистограмма с линией 99-го перцентиля\n",
    "    sns.histplot(data[column], bins=bins, kde=True, color=\"blue\", alpha=0.7, ax=axes[0])\n",
    "    axes[0].axvline(percentile_99, color='red', linestyle='dashed', linewidth=2, label=\"99-й перцентиль\")\n",
    "    axes[0].legend()\n",
    "    axes[0].set_xlabel(column)\n",
    "    axes[0].set_ylabel(\"Частота\")\n",
    "    axes[0].set_title(f\"Гистограмма для '{column}'\")\n",
    "    axes[0].grid(True)\n",
    "\n",
    "    # Boxplot\n",
    "    sns.boxplot(x=data[column], ax=axes[1], color=\"lightblue\")\n",
    "    axes[1].axvline(percentile_99, color='red', linestyle='dashed', linewidth=2)\n",
    "    axes[1].set_xlabel(column)\n",
    "    axes[1].set_title(\"Boxplot\")\n",
    "\n",
    "    plt.tight_layout()\n",
    "    plt.show()\n"
   ]
  },
  {
   "cell_type": "markdown",
   "metadata": {},
   "source": [
    "## Гистограмма общей площади"
   ]
  },
  {
   "cell_type": "code",
   "execution_count": 34,
   "metadata": {},
   "outputs": [
    {
     "name": "stdout",
     "output_type": "stream",
     "text": [
      "\n",
      "Статистика для 'total_area':\n",
      "Количество значений: 22885\n",
      "Минимум: 19.0\n",
      "Максимум: 900.0\n",
      "Среднее: 60.34\n",
      "Медиана: 52.00\n",
      "Стандартное отклонение: 35.50\n",
      "99-й перцентиль: 196.00\n",
      "Количество значений выше 99-го перцентиля: 228\n",
      "Доля значений выше 99-го перцентиля: 1.00%\n"
     ]
    },
    {
     "data": {
      "image/png": "[encoded data removed]",
      "text/plain": [
       "<Figure size 720x576 with 2 Axes>"
      ]
     },
     "metadata": {
      "needs_background": "light"
     },
     "output_type": "display_data"
    }
   ],
   "source": [
    "show_hist(data, 'total_area')"
   ]
  },
  {
   "cell_type": "markdown",
   "metadata": {},
   "source": [
    "Заметен длинный хвост уходящий вправо, это означает, что есть некоторое количество недвижимости с площадью выше 200 м². \n",
    "Квартиры, с площадью более 200 м² являются элитыным жильем и их цена может быть определена наличием других параметров (вертолетная площадка, бассейн и т.д.) Будем работать с более массовым сегментом рынка, где сосредоточена основная масса объявлений. "
   ]
  },
  {
   "cell_type": "markdown",
   "metadata": {},
   "source": [
    "## Создадим новую таблицу с объявлениями, где общая площадь не превышает 200 м²"
   ]
  },
  {
   "cell_type": "code",
   "execution_count": 35,
   "metadata": {},
   "outputs": [],
   "source": [
    "# Фильтруем данные\n",
    "standart_df = data[data['total_area'] <= 200]"
   ]
  },
  {
   "cell_type": "markdown",
   "metadata": {},
   "source": [
    "## Гисторгамма жилой площади"
   ]
  },
  {
   "cell_type": "code",
   "execution_count": 36,
   "metadata": {},
   "outputs": [
    {
     "name": "stdout",
     "output_type": "stream",
     "text": [
      "\n",
      "Статистика для 'living_area':\n",
      "Количество значений: 22354\n",
      "Минимум: 11.420454545454547\n",
      "Максимум: 150.8\n",
      "Среднее: 33.36\n",
      "Медиана: 30.00\n",
      "Стандартное отклонение: 16.91\n",
      "99-й перцентиль: 95.00\n",
      "Количество значений выше 99-го перцентиля: 222\n",
      "Доля значений выше 99-го перцентиля: 0.99%\n"
     ]
    },
    {
     "data": {
      "image/png": "[encoded data removed]",
      "text/plain": [
       "<Figure size 720x576 with 2 Axes>"
      ]
     },
     "metadata": {
      "needs_background": "light"
     },
     "output_type": "display_data"
    }
   ],
   "source": [
    "standart_df = standart_df[(standart_df['is_apartment'] == 1) | ((standart_df['living_area'] >= 14) & (standart_df['is_apartment'] == 0))]\n",
    "# Выводим гистограмму \n",
    "show_hist(standart_df, 'living_area')"
   ]
  },
  {
   "cell_type": "markdown",
   "metadata": {},
   "source": [
    "Длинный хвост на гистограмме указывает на то, что у квартир с большей общей площадью заметно больше жилая площадь. "
   ]
  },
  {
   "cell_type": "markdown",
   "metadata": {},
   "source": [
    "## Гистограмма площади кухни"
   ]
  },
  {
   "cell_type": "code",
   "execution_count": 37,
   "metadata": {},
   "outputs": [
    {
     "name": "stdout",
     "output_type": "stream",
     "text": [
      "\n",
      "Статистика для 'kitchen_area':\n",
      "Количество значений: 22354\n",
      "Минимум: 1.3\n",
      "Максимум: 93.2\n",
      "Среднее: 10.16\n",
      "Медиана: 9.00\n",
      "Стандартное отклонение: 5.05\n",
      "99-й перцентиль: 30.04\n",
      "Количество значений выше 99-го перцентиля: 224\n",
      "Доля значений выше 99-го перцентиля: 1.00%\n"
     ]
    },
    {
     "data": {
      "image/png": "[encoded data removed]",
      "text/plain": [
       "<Figure size 720x576 with 2 Axes>"
      ]
     },
     "metadata": {
      "needs_background": "light"
     },
     "output_type": "display_data"
    }
   ],
   "source": [
    "show_hist(standart_df, 'kitchen_area')"
   ]
  },
  {
   "cell_type": "markdown",
   "metadata": {},
   "source": [
    "Среднее и медиана близки, большая часть квартир имеет площадь кухни до 20 $м^{2}$"
   ]
  },
  {
   "cell_type": "markdown",
   "metadata": {},
   "source": [
    "## Гистограмма стоимости недвижимости."
   ]
  },
  {
   "cell_type": "code",
   "execution_count": 38,
   "metadata": {},
   "outputs": [
    {
     "name": "stdout",
     "output_type": "stream",
     "text": [
      "\n",
      "Статистика для 'last_price':\n",
      "Количество значений: 22354\n",
      "Минимум: 0.01219\n",
      "Максимум: 330.0\n",
      "Среднее: 6.04\n",
      "Медиана: 4.62\n",
      "Стандартное отклонение: 6.24\n",
      "99-й перцентиль: 27.59\n",
      "Количество значений выше 99-го перцентиля: 224\n",
      "Доля значений выше 99-го перцентиля: 1.00%\n"
     ]
    },
    {
     "data": {
      "image/png": "[encoded data removed]",
      "text/plain": [
       "<Figure size 720x576 with 2 Axes>"
      ]
     },
     "metadata": {
      "needs_background": "light"
     },
     "output_type": "display_data"
    }
   ],
   "source": [
    "# Разделим значения в столбце last_price на 1000000 для лучшей читаемости\n",
    "standart_df['last_price'] = standart_df['last_price'] / 1000000 \n",
    "show_hist(standart_df, 'last_price')"
   ]
  },
  {
   "cell_type": "markdown",
   "metadata": {},
   "source": [
    "На гистограмме есть 6 экстремальных выбросов. Чтобы сохранить данные о дорогих объектах, но без аномалий, удалим эти значения."
   ]
  },
  {
   "cell_type": "markdown",
   "metadata": {},
   "source": [
    "### Удаляем 6 самых дорогих объектов"
   ]
  },
  {
   "cell_type": "code",
   "execution_count": 39,
   "metadata": {},
   "outputs": [],
   "source": [
    "# Сохраняем индексы 5 самых дорогих объектов\n",
    "maximum_price = standart_df.nlargest(6, 'last_price').index\n",
    "# Удаляем эти объявления\n",
    "standart_df = standart_df.drop(maximum_price)"
   ]
  },
  {
   "cell_type": "markdown",
   "metadata": {},
   "source": [
    "## Гистограмма количества комнат."
   ]
  },
  {
   "cell_type": "code",
   "execution_count": 40,
   "metadata": {},
   "outputs": [
    {
     "name": "stdout",
     "output_type": "stream",
     "text": [
      "\n",
      "Статистика для 'rooms':\n",
      "Количество значений: 22348\n",
      "Минимум: 0\n",
      "Максимум: 11\n",
      "Среднее: 2.05\n",
      "Медиана: 2.00\n",
      "Стандартное отклонение: 0.99\n",
      "99-й перцентиль: 5.00\n",
      "Количество значений выше 99-го перцентиля: 78\n",
      "Доля значений выше 99-го перцентиля: 0.35%\n"
     ]
    },
    {
     "data": {
      "image/png": "[encoded data removed]",
      "text/plain": [
       "<Figure size 720x576 with 2 Axes>"
      ]
     },
     "metadata": {
      "needs_background": "light"
     },
     "output_type": "display_data"
    }
   ],
   "source": [
    "show_hist(standart_df, 'rooms')"
   ]
  },
  {
   "cell_type": "markdown",
   "metadata": {},
   "source": [
    "Есть несколько объектов с количеством комнат больше 5. Это свойственно для элитной недвижимости и квартир с большой площадью. \n",
    "Также, есть несколько объектов, где количество комнат 0. Заменим эти значения на 1."
   ]
  },
  {
   "cell_type": "markdown",
   "metadata": {},
   "source": [
    "### Заменим количество комнат на 1 в тех объектах, где оно равно 0."
   ]
  },
  {
   "cell_type": "code",
   "execution_count": 41,
   "metadata": {},
   "outputs": [],
   "source": [
    "standart_df.loc[standart_df['rooms'] == 0, 'rooms'] = 1"
   ]
  },
  {
   "cell_type": "markdown",
   "metadata": {},
   "source": [
    "##  Гистограмма высоты потолков."
   ]
  },
  {
   "cell_type": "code",
   "execution_count": 42,
   "metadata": {},
   "outputs": [
    {
     "name": "stdout",
     "output_type": "stream",
     "text": [
      "\n",
      "Статистика для 'ceiling_height':\n",
      "Количество значений: 22348\n",
      "Минимум: 2.4\n",
      "Максимум: 5.5\n",
      "Среднее: 2.70\n",
      "Медиана: 2.65\n",
      "Стандартное отклонение: 0.22\n",
      "99-й перцентиль: 3.50\n",
      "Количество значений выше 99-го перцентиля: 211\n",
      "Доля значений выше 99-го перцентиля: 0.94%\n"
     ]
    },
    {
     "data": {
      "image/png": "[encoded data removed]",
      "text/plain": [
       "<Figure size 720x576 with 2 Axes>"
      ]
     },
     "metadata": {
      "needs_background": "light"
     },
     "output_type": "display_data"
    }
   ],
   "source": [
    "show_hist(standart_df, 'ceiling_height')"
   ]
  },
  {
   "cell_type": "markdown",
   "metadata": {},
   "source": [
    "Большинство объектов имеют высоту потолков в диапазоне 2.4-3.5 метров. Это соответствует типичным значением для жилых помещений."
   ]
  },
  {
   "cell_type": "markdown",
   "metadata": {},
   "source": [
    "## Гистограмма типа этажа."
   ]
  },
  {
   "cell_type": "code",
   "execution_count": 43,
   "metadata": {},
   "outputs": [
    {
     "data": {
      "image/png": "[encoded data removed]",
      "text/plain": [
       "<Figure size 576x432 with 1 Axes>"
      ]
     },
     "metadata": {
      "needs_background": "light"
     },
     "output_type": "display_data"
    }
   ],
   "source": [
    "plt.figure(figsize=(8, 6))\n",
    "sns.countplot(data=data, x='floor_type', palette='viridis', hue='floor_type')\n",
    "plt.title('Распределение значений floor_type')\n",
    "plt.xlabel('Тип этажа')\n",
    "plt.ylabel('Количество')\n",
    "plt.show()"
   ]
  },
  {
   "cell_type": "markdown",
   "metadata": {},
   "source": [
    "Меньше всего продается квартир на первом этаже. "
   ]
  },
  {
   "cell_type": "markdown",
   "metadata": {},
   "source": [
    "## Гистограмма общего количества этажей в доме."
   ]
  },
  {
   "cell_type": "code",
   "execution_count": 44,
   "metadata": {},
   "outputs": [
    {
     "name": "stdout",
     "output_type": "stream",
     "text": [
      "\n",
      "Статистика для 'floors_total':\n",
      "Количество значений: 22348\n",
      "Минимум: 1\n",
      "Максимум: 60\n",
      "Среднее: 10.69\n",
      "Медиана: 9.00\n",
      "Стандартное отклонение: 6.55\n",
      "99-й перцентиль: 26.00\n",
      "Количество значений выше 99-го перцентиля: 198\n",
      "Доля значений выше 99-го перцентиля: 0.89%\n"
     ]
    },
    {
     "data": {
      "image/png": "[encoded data removed]",
      "text/plain": [
       "<Figure size 720x576 with 2 Axes>"
      ]
     },
     "metadata": {
      "needs_background": "light"
     },
     "output_type": "display_data"
    }
   ],
   "source": [
    "show_hist(standart_df, 'floors_total')"
   ]
  },
  {
   "cell_type": "markdown",
   "metadata": {},
   "source": [
    "На гистограмме есть один экстремальный выброс. Проверим это объявление."
   ]
  },
  {
   "cell_type": "markdown",
   "metadata": {},
   "source": [
    "### Выведем строку с максимальным значением floors_total."
   ]
  },
  {
   "cell_type": "code",
   "execution_count": 45,
   "metadata": {},
   "outputs": [
    {
     "data": {
      "text/html": [
       "<div>\n",
       "<style scoped>\n",
       "    .dataframe tbody tr th:only-of-type {\n",
       "        vertical-align: middle;\n",
       "    }\n",
       "\n",
       "    .dataframe tbody tr th {\n",
       "        vertical-align: top;\n",
       "    }\n",
       "\n",
       "    .dataframe thead th {\n",
       "        text-align: right;\n",
       "    }\n",
       "</style>\n",
       "<table border=\"1\" class=\"dataframe\">\n",
       "  <thead>\n",
       "    <tr style=\"text-align: right;\">\n",
       "      <th></th>\n",
       "      <th>total_images</th>\n",
       "      <th>last_price</th>\n",
       "      <th>total_area</th>\n",
       "      <th>first_day_exposition</th>\n",
       "      <th>rooms</th>\n",
       "      <th>ceiling_height</th>\n",
       "      <th>floors_total</th>\n",
       "      <th>living_area</th>\n",
       "      <th>floor</th>\n",
       "      <th>is_apartment</th>\n",
       "      <th>is_studio</th>\n",
       "      <th>is_open_plan</th>\n",
       "      <th>kitchen_area</th>\n",
       "      <th>balcony</th>\n",
       "      <th>locality_name</th>\n",
       "      <th>airports_nearest</th>\n",
       "      <th>city_center_nearest</th>\n",
       "      <th>parks_around_3000m</th>\n",
       "      <th>parks_nearest</th>\n",
       "      <th>ponds_around_3000m</th>\n",
       "      <th>ponds_nearest</th>\n",
       "      <th>days_exposition</th>\n",
       "      <th>square_meter_price</th>\n",
       "      <th>weekday</th>\n",
       "      <th>month</th>\n",
       "      <th>year</th>\n",
       "      <th>floor_type</th>\n",
       "      <th>distance_to_center</th>\n",
       "    </tr>\n",
       "  </thead>\n",
       "  <tbody>\n",
       "    <tr>\n",
       "      <th>2190</th>\n",
       "      <td>12</td>\n",
       "      <td>3.8</td>\n",
       "      <td>45.5</td>\n",
       "      <td>2018-06-28</td>\n",
       "      <td>2</td>\n",
       "      <td>2.88</td>\n",
       "      <td>60</td>\n",
       "      <td>27.4</td>\n",
       "      <td>4</td>\n",
       "      <td>0</td>\n",
       "      <td>0</td>\n",
       "      <td>0</td>\n",
       "      <td>7.4</td>\n",
       "      <td>0</td>\n",
       "      <td>Кронштадт</td>\n",
       "      <td>67763.0</td>\n",
       "      <td>49488.0</td>\n",
       "      <td>2.0</td>\n",
       "      <td>342.0</td>\n",
       "      <td>3.0</td>\n",
       "      <td>614.0</td>\n",
       "      <td>166.0</td>\n",
       "      <td>83516.48</td>\n",
       "      <td>3</td>\n",
       "      <td>6</td>\n",
       "      <td>2018</td>\n",
       "      <td>другой</td>\n",
       "      <td>49.0</td>\n",
       "    </tr>\n",
       "  </tbody>\n",
       "</table>\n",
       "</div>"
      ],
      "text/plain": [
       "      total_images  last_price  total_area first_day_exposition  rooms  \\\n",
       "2190            12         3.8        45.5           2018-06-28      2   \n",
       "\n",
       "      ceiling_height  floors_total  living_area  floor  is_apartment  \\\n",
       "2190            2.88            60         27.4      4             0   \n",
       "\n",
       "      is_studio  is_open_plan  kitchen_area  balcony locality_name  \\\n",
       "2190          0             0           7.4        0     Кронштадт   \n",
       "\n",
       "      airports_nearest  city_center_nearest  parks_around_3000m  \\\n",
       "2190           67763.0              49488.0                 2.0   \n",
       "\n",
       "      parks_nearest  ponds_around_3000m  ponds_nearest  days_exposition  \\\n",
       "2190          342.0                 3.0          614.0            166.0   \n",
       "\n",
       "      square_meter_price  weekday  month  year floor_type  distance_to_center  \n",
       "2190            83516.48        3      6  2018     другой                49.0  "
      ]
     },
     "execution_count": 45,
     "metadata": {},
     "output_type": "execute_result"
    }
   ],
   "source": [
    "standart_df[standart_df['floors_total'] > 37]"
   ]
  },
  {
   "cell_type": "markdown",
   "metadata": {},
   "source": [
    "Скорее всего была допущена ошибка при заполнении объявления и добавлен лишний 0. "
   ]
  },
  {
   "cell_type": "markdown",
   "metadata": {},
   "source": [
    "### Изменим значение floors_total с 60 на 6."
   ]
  },
  {
   "cell_type": "code",
   "execution_count": 46,
   "metadata": {},
   "outputs": [],
   "source": [
    "standart_df.loc[standart_df['floors_total'] == 60, 'floors_total'] = 6"
   ]
  },
  {
   "cell_type": "markdown",
   "metadata": {},
   "source": [
    "## Гистограмма расстояния до центра города в метрах"
   ]
  },
  {
   "cell_type": "code",
   "execution_count": 47,
   "metadata": {},
   "outputs": [
    {
     "name": "stdout",
     "output_type": "stream",
     "text": [
      "\n",
      "Статистика для 'distance_to_center':\n",
      "Количество значений: 17148\n",
      "Минимум: 0.0\n",
      "Максимум: 66.0\n",
      "Среднее: 14.33\n",
      "Медиана: 13.00\n",
      "Стандартное отклонение: 8.62\n",
      "99-й перцентиль: 50.00\n",
      "Количество значений выше 99-го перцентиля: 149\n",
      "Доля значений выше 99-го перцентиля: 0.87%\n"
     ]
    },
    {
     "data": {
      "image/png": "[encoded data removed]",
      "text/plain": [
       "<Figure size 720x576 with 2 Axes>"
      ]
     },
     "metadata": {
      "needs_background": "light"
     },
     "output_type": "display_data"
    }
   ],
   "source": [
    "show_hist(standart_df, 'distance_to_center')"
   ]
  },
  {
   "cell_type": "markdown",
   "metadata": {},
   "source": [
    "На гистограмме минимальное значение равно 0. Т.к. мы округляли до расстояние до центра города до ближайшего целого числа, то это означает, что эти объекты находятся на расстоянии менее 1 км до центра. Объекты, расположенные более 50 км от центра оставим для общего анализа."
   ]
  },
  {
   "cell_type": "markdown",
   "metadata": {},
   "source": [
    "## Гистограмма расстояния до ближайшего парка"
   ]
  },
  {
   "cell_type": "code",
   "execution_count": 48,
   "metadata": {},
   "outputs": [
    {
     "name": "stdout",
     "output_type": "stream",
     "text": [
      "\n",
      "Статистика для 'parks_nearest':\n",
      "Количество значений: 7560\n",
      "Минимум: 1.0\n",
      "Максимум: 3190.0\n",
      "Среднее: 491.95\n",
      "Медиана: 456.00\n",
      "Стандартное отклонение: 340.45\n",
      "99-й перцентиль: 2102.00\n",
      "Количество значений выше 99-го перцентиля: 70\n",
      "Доля значений выше 99-го перцентиля: 0.93%\n"
     ]
    },
    {
     "data": {
      "image/png": "[encoded data removed]",
      "text/plain": [
       "<Figure size 720x576 with 2 Axes>"
      ]
     },
     "metadata": {
      "needs_background": "light"
     },
     "output_type": "display_data"
    }
   ],
   "source": [
    "show_hist(standart_df, 'parks_nearest')"
   ]
  },
  {
   "cell_type": "markdown",
   "metadata": {},
   "source": [
    "Т.к. данные по расстоянию были собраны автоматически, мы не видим полной картины по всем объектам. Из имеющихся данных мы видим, что большинство квартир находится в радиусе 1 км от парка. Нас интересуют только парки, расположенные в радиусе 3 км, остальными объектами можно пренебречь."
   ]
  },
  {
   "cell_type": "markdown",
   "metadata": {},
   "source": [
    "### Удалим строки, где расстояние до парка превышает 3000 м."
   ]
  },
  {
   "cell_type": "code",
   "execution_count": 49,
   "metadata": {},
   "outputs": [],
   "source": [
    "standart_df = standart_df[(standart_df['parks_nearest'] <= 3000) | (standart_df['parks_nearest'].isna())]"
   ]
  },
  {
   "cell_type": "markdown",
   "metadata": {},
   "source": [
    "## Скорость продажи квартиры"
   ]
  },
  {
   "cell_type": "code",
   "execution_count": 50,
   "metadata": {},
   "outputs": [
    {
     "data": {
      "image/png": "[encoded data removed]",
      "text/plain": [
       "<Figure size 720x360 with 1 Axes>"
      ]
     },
     "metadata": {
      "needs_background": "light"
     },
     "output_type": "display_data"
    },
    {
     "name": "stdout",
     "output_type": "stream",
     "text": [
      "Среднее время продажи: 181 дней\n",
      "Медианное время продажи: 96 дней\n"
     ]
    }
   ],
   "source": [
    "# Построим гистограмму\n",
    "plt.figure(figsize=(10, 5))\n",
    "sns.histplot(data['days_exposition'], bins=50, kde=True, color='blue', alpha=0.7)\n",
    "plt.xlabel('Количество дней')\n",
    "plt.ylabel('количество продаж')\n",
    "plt.title('Гистограмма дней продажи')\n",
    "plt.grid(True)\n",
    "plt.show()\n",
    "# Посчитаем среднее и медиану\n",
    "print(f\"Среднее время продажи: {int(data['days_exposition'].mean().round())} дней\")\n",
    "print(f\"Медианное время продажи: {int(data['days_exposition'].median())} дней\")"
   ]
  },
  {
   "cell_type": "markdown",
   "metadata": {},
   "source": [
    "Большинство квартир продается достаточно быстро, но медиана значительно отличается от среднего. Можно считать, что быстрая продажа - менее 96 дней, долгая - более 181 дня."
   ]
  },
  {
   "cell_type": "code",
   "execution_count": 51,
   "metadata": {},
   "outputs": [
    {
     "data": {
      "image/png": "[encoded data removed]",
      "text/plain": [
       "<Figure size 720x360 with 1 Axes>"
      ]
     },
     "metadata": {
      "needs_background": "light"
     },
     "output_type": "display_data"
    }
   ],
   "source": [
    "plt.figure(figsize=(10, 5))\n",
    "\n",
    "# Фильтруем данные для диапазона 0-100 дней\n",
    "sns.histplot(data[data['days_exposition'] <= 100]['days_exposition'], bins=20, kde=True, color='blue', alpha=0.7)\n",
    "\n",
    "plt.xlabel('Количество дней')\n",
    "plt.ylabel('Количество продаж')\n",
    "plt.title('Гистограмма дней продажи (0-100 дней)')\n",
    "plt.grid(True)\n",
    "plt.show()"
   ]
  },
  {
   "cell_type": "markdown",
   "metadata": {},
   "source": [
    "<div class=\"alert alert-info\">\n",
    "<b>Комментарий студента:</b>\n",
    "Я предполагаю, что это может быть связано со сроком размещения объявления. Т.е., при повторном размещении или, когда срок размещения подходил к концу, указывали цену ниже. Или это может быть рассмотрение ипотечной заявки. \n",
    "<br>\n",
    "</div>"
   ]
  },
  {
   "cell_type": "code",
   "execution_count": 52,
   "metadata": {},
   "outputs": [
    {
     "data": {
      "text/html": [
       "<div>\n",
       "<style scoped>\n",
       "    .dataframe tbody tr th:only-of-type {\n",
       "        vertical-align: middle;\n",
       "    }\n",
       "\n",
       "    .dataframe tbody tr th {\n",
       "        vertical-align: top;\n",
       "    }\n",
       "\n",
       "    .dataframe thead th {\n",
       "        text-align: right;\n",
       "    }\n",
       "</style>\n",
       "<table border=\"1\" class=\"dataframe\">\n",
       "  <thead>\n",
       "    <tr style=\"text-align: right;\">\n",
       "      <th></th>\n",
       "      <th>total_images</th>\n",
       "      <th>last_price</th>\n",
       "      <th>total_area</th>\n",
       "      <th>first_day_exposition</th>\n",
       "      <th>rooms</th>\n",
       "      <th>ceiling_height</th>\n",
       "      <th>floors_total</th>\n",
       "      <th>living_area</th>\n",
       "      <th>floor</th>\n",
       "      <th>is_apartment</th>\n",
       "      <th>is_studio</th>\n",
       "      <th>is_open_plan</th>\n",
       "      <th>kitchen_area</th>\n",
       "      <th>balcony</th>\n",
       "      <th>locality_name</th>\n",
       "      <th>airports_nearest</th>\n",
       "      <th>city_center_nearest</th>\n",
       "      <th>parks_around_3000m</th>\n",
       "      <th>parks_nearest</th>\n",
       "      <th>ponds_around_3000m</th>\n",
       "      <th>ponds_nearest</th>\n",
       "      <th>days_exposition</th>\n",
       "      <th>square_meter_price</th>\n",
       "      <th>weekday</th>\n",
       "      <th>month</th>\n",
       "      <th>year</th>\n",
       "      <th>floor_type</th>\n",
       "      <th>distance_to_center</th>\n",
       "    </tr>\n",
       "  </thead>\n",
       "  <tbody>\n",
       "    <tr>\n",
       "      <th>5</th>\n",
       "      <td>10</td>\n",
       "      <td>2890000.0</td>\n",
       "      <td>30.4</td>\n",
       "      <td>2018-09-10</td>\n",
       "      <td>1</td>\n",
       "      <td>2.65</td>\n",
       "      <td>12</td>\n",
       "      <td>14.400000</td>\n",
       "      <td>5</td>\n",
       "      <td>0</td>\n",
       "      <td>0</td>\n",
       "      <td>0</td>\n",
       "      <td>9.100000</td>\n",
       "      <td>0</td>\n",
       "      <td>поселок Янино-1</td>\n",
       "      <td>NaN</td>\n",
       "      <td>NaN</td>\n",
       "      <td>NaN</td>\n",
       "      <td>NaN</td>\n",
       "      <td>NaN</td>\n",
       "      <td>NaN</td>\n",
       "      <td>55.0</td>\n",
       "      <td>95065.79</td>\n",
       "      <td>0</td>\n",
       "      <td>9</td>\n",
       "      <td>2018</td>\n",
       "      <td>другой</td>\n",
       "      <td>NaN</td>\n",
       "    </tr>\n",
       "    <tr>\n",
       "      <th>22</th>\n",
       "      <td>20</td>\n",
       "      <td>5000000.0</td>\n",
       "      <td>58.0</td>\n",
       "      <td>2017-04-24</td>\n",
       "      <td>2</td>\n",
       "      <td>2.75</td>\n",
       "      <td>25</td>\n",
       "      <td>30.000000</td>\n",
       "      <td>15</td>\n",
       "      <td>0</td>\n",
       "      <td>0</td>\n",
       "      <td>0</td>\n",
       "      <td>11.000000</td>\n",
       "      <td>2</td>\n",
       "      <td>деревня Кудрово</td>\n",
       "      <td>NaN</td>\n",
       "      <td>NaN</td>\n",
       "      <td>NaN</td>\n",
       "      <td>NaN</td>\n",
       "      <td>NaN</td>\n",
       "      <td>NaN</td>\n",
       "      <td>60.0</td>\n",
       "      <td>86206.90</td>\n",
       "      <td>0</td>\n",
       "      <td>4</td>\n",
       "      <td>2017</td>\n",
       "      <td>другой</td>\n",
       "      <td>NaN</td>\n",
       "    </tr>\n",
       "    <tr>\n",
       "      <th>53</th>\n",
       "      <td>6</td>\n",
       "      <td>3320000.0</td>\n",
       "      <td>36.5</td>\n",
       "      <td>2017-04-14</td>\n",
       "      <td>1</td>\n",
       "      <td>2.75</td>\n",
       "      <td>24</td>\n",
       "      <td>14.000000</td>\n",
       "      <td>6</td>\n",
       "      <td>0</td>\n",
       "      <td>0</td>\n",
       "      <td>0</td>\n",
       "      <td>12.000000</td>\n",
       "      <td>0</td>\n",
       "      <td>Санкт-Петербург</td>\n",
       "      <td>33331.0</td>\n",
       "      <td>14495.0</td>\n",
       "      <td>0.0</td>\n",
       "      <td>NaN</td>\n",
       "      <td>0.0</td>\n",
       "      <td>NaN</td>\n",
       "      <td>44.0</td>\n",
       "      <td>90958.90</td>\n",
       "      <td>4</td>\n",
       "      <td>4</td>\n",
       "      <td>2017</td>\n",
       "      <td>другой</td>\n",
       "      <td>14.0</td>\n",
       "    </tr>\n",
       "    <tr>\n",
       "      <th>81</th>\n",
       "      <td>3</td>\n",
       "      <td>4500000.0</td>\n",
       "      <td>80.5</td>\n",
       "      <td>2018-01-15</td>\n",
       "      <td>3</td>\n",
       "      <td>2.75</td>\n",
       "      <td>25</td>\n",
       "      <td>45.738636</td>\n",
       "      <td>16</td>\n",
       "      <td>0</td>\n",
       "      <td>0</td>\n",
       "      <td>0</td>\n",
       "      <td>13.874797</td>\n",
       "      <td>0</td>\n",
       "      <td>поселок Шушары</td>\n",
       "      <td>12430.0</td>\n",
       "      <td>18217.0</td>\n",
       "      <td>0.0</td>\n",
       "      <td>NaN</td>\n",
       "      <td>0.0</td>\n",
       "      <td>NaN</td>\n",
       "      <td>60.0</td>\n",
       "      <td>55900.62</td>\n",
       "      <td>0</td>\n",
       "      <td>1</td>\n",
       "      <td>2018</td>\n",
       "      <td>другой</td>\n",
       "      <td>18.0</td>\n",
       "    </tr>\n",
       "    <tr>\n",
       "      <th>104</th>\n",
       "      <td>12</td>\n",
       "      <td>4900000.0</td>\n",
       "      <td>32.0</td>\n",
       "      <td>2018-01-07</td>\n",
       "      <td>1</td>\n",
       "      <td>2.75</td>\n",
       "      <td>25</td>\n",
       "      <td>15.000000</td>\n",
       "      <td>5</td>\n",
       "      <td>0</td>\n",
       "      <td>0</td>\n",
       "      <td>0</td>\n",
       "      <td>9.000000</td>\n",
       "      <td>0</td>\n",
       "      <td>Санкт-Петербург</td>\n",
       "      <td>52480.0</td>\n",
       "      <td>15598.0</td>\n",
       "      <td>0.0</td>\n",
       "      <td>NaN</td>\n",
       "      <td>1.0</td>\n",
       "      <td>464.0</td>\n",
       "      <td>60.0</td>\n",
       "      <td>153125.00</td>\n",
       "      <td>6</td>\n",
       "      <td>1</td>\n",
       "      <td>2018</td>\n",
       "      <td>другой</td>\n",
       "      <td>16.0</td>\n",
       "    </tr>\n",
       "    <tr>\n",
       "      <th>...</th>\n",
       "      <td>...</td>\n",
       "      <td>...</td>\n",
       "      <td>...</td>\n",
       "      <td>...</td>\n",
       "      <td>...</td>\n",
       "      <td>...</td>\n",
       "      <td>...</td>\n",
       "      <td>...</td>\n",
       "      <td>...</td>\n",
       "      <td>...</td>\n",
       "      <td>...</td>\n",
       "      <td>...</td>\n",
       "      <td>...</td>\n",
       "      <td>...</td>\n",
       "      <td>...</td>\n",
       "      <td>...</td>\n",
       "      <td>...</td>\n",
       "      <td>...</td>\n",
       "      <td>...</td>\n",
       "      <td>...</td>\n",
       "      <td>...</td>\n",
       "      <td>...</td>\n",
       "      <td>...</td>\n",
       "      <td>...</td>\n",
       "      <td>...</td>\n",
       "      <td>...</td>\n",
       "      <td>...</td>\n",
       "      <td>...</td>\n",
       "    </tr>\n",
       "    <tr>\n",
       "      <th>22830</th>\n",
       "      <td>14</td>\n",
       "      <td>5950000.0</td>\n",
       "      <td>80.3</td>\n",
       "      <td>2018-07-03</td>\n",
       "      <td>3</td>\n",
       "      <td>2.70</td>\n",
       "      <td>12</td>\n",
       "      <td>45.625000</td>\n",
       "      <td>5</td>\n",
       "      <td>0</td>\n",
       "      <td>0</td>\n",
       "      <td>0</td>\n",
       "      <td>13.840325</td>\n",
       "      <td>0</td>\n",
       "      <td>Колпино</td>\n",
       "      <td>27933.0</td>\n",
       "      <td>33719.0</td>\n",
       "      <td>0.0</td>\n",
       "      <td>NaN</td>\n",
       "      <td>2.0</td>\n",
       "      <td>562.0</td>\n",
       "      <td>60.0</td>\n",
       "      <td>74097.14</td>\n",
       "      <td>1</td>\n",
       "      <td>7</td>\n",
       "      <td>2018</td>\n",
       "      <td>другой</td>\n",
       "      <td>34.0</td>\n",
       "    </tr>\n",
       "    <tr>\n",
       "      <th>22845</th>\n",
       "      <td>2</td>\n",
       "      <td>5990000.0</td>\n",
       "      <td>64.0</td>\n",
       "      <td>2017-04-21</td>\n",
       "      <td>2</td>\n",
       "      <td>2.75</td>\n",
       "      <td>19</td>\n",
       "      <td>31.000000</td>\n",
       "      <td>16</td>\n",
       "      <td>0</td>\n",
       "      <td>0</td>\n",
       "      <td>0</td>\n",
       "      <td>11.000000</td>\n",
       "      <td>0</td>\n",
       "      <td>Санкт-Петербург</td>\n",
       "      <td>37636.0</td>\n",
       "      <td>14479.0</td>\n",
       "      <td>0.0</td>\n",
       "      <td>NaN</td>\n",
       "      <td>1.0</td>\n",
       "      <td>1127.0</td>\n",
       "      <td>40.0</td>\n",
       "      <td>93593.75</td>\n",
       "      <td>4</td>\n",
       "      <td>4</td>\n",
       "      <td>2017</td>\n",
       "      <td>другой</td>\n",
       "      <td>14.0</td>\n",
       "    </tr>\n",
       "    <tr>\n",
       "      <th>22850</th>\n",
       "      <td>12</td>\n",
       "      <td>6400000.0</td>\n",
       "      <td>88.0</td>\n",
       "      <td>2018-01-12</td>\n",
       "      <td>4</td>\n",
       "      <td>2.55</td>\n",
       "      <td>10</td>\n",
       "      <td>50.000000</td>\n",
       "      <td>1</td>\n",
       "      <td>0</td>\n",
       "      <td>0</td>\n",
       "      <td>0</td>\n",
       "      <td>15.167480</td>\n",
       "      <td>0</td>\n",
       "      <td>Санкт-Петербург</td>\n",
       "      <td>33642.0</td>\n",
       "      <td>13943.0</td>\n",
       "      <td>0.0</td>\n",
       "      <td>NaN</td>\n",
       "      <td>2.0</td>\n",
       "      <td>844.0</td>\n",
       "      <td>59.0</td>\n",
       "      <td>72727.27</td>\n",
       "      <td>4</td>\n",
       "      <td>1</td>\n",
       "      <td>2018</td>\n",
       "      <td>первый</td>\n",
       "      <td>14.0</td>\n",
       "    </tr>\n",
       "    <tr>\n",
       "      <th>22860</th>\n",
       "      <td>9</td>\n",
       "      <td>3100000.0</td>\n",
       "      <td>23.0</td>\n",
       "      <td>2018-03-19</td>\n",
       "      <td>1</td>\n",
       "      <td>2.80</td>\n",
       "      <td>9</td>\n",
       "      <td>12.600000</td>\n",
       "      <td>1</td>\n",
       "      <td>0</td>\n",
       "      <td>0</td>\n",
       "      <td>0</td>\n",
       "      <td>5.000000</td>\n",
       "      <td>2</td>\n",
       "      <td>Санкт-Петербург</td>\n",
       "      <td>11813.0</td>\n",
       "      <td>11881.0</td>\n",
       "      <td>1.0</td>\n",
       "      <td>262.0</td>\n",
       "      <td>1.0</td>\n",
       "      <td>442.0</td>\n",
       "      <td>41.0</td>\n",
       "      <td>134782.61</td>\n",
       "      <td>0</td>\n",
       "      <td>3</td>\n",
       "      <td>2018</td>\n",
       "      <td>первый</td>\n",
       "      <td>12.0</td>\n",
       "    </tr>\n",
       "    <tr>\n",
       "      <th>22868</th>\n",
       "      <td>11</td>\n",
       "      <td>2350000.0</td>\n",
       "      <td>35.6</td>\n",
       "      <td>2016-06-23</td>\n",
       "      <td>1</td>\n",
       "      <td>2.50</td>\n",
       "      <td>5</td>\n",
       "      <td>17.000000</td>\n",
       "      <td>4</td>\n",
       "      <td>0</td>\n",
       "      <td>0</td>\n",
       "      <td>0</td>\n",
       "      <td>8.300000</td>\n",
       "      <td>2</td>\n",
       "      <td>Выборг</td>\n",
       "      <td>NaN</td>\n",
       "      <td>NaN</td>\n",
       "      <td>NaN</td>\n",
       "      <td>NaN</td>\n",
       "      <td>NaN</td>\n",
       "      <td>NaN</td>\n",
       "      <td>40.0</td>\n",
       "      <td>66011.24</td>\n",
       "      <td>3</td>\n",
       "      <td>6</td>\n",
       "      <td>2016</td>\n",
       "      <td>другой</td>\n",
       "      <td>NaN</td>\n",
       "    </tr>\n",
       "  </tbody>\n",
       "</table>\n",
       "<p>1420 rows × 28 columns</p>\n",
       "</div>"
      ],
      "text/plain": [
       "       total_images  last_price  total_area first_day_exposition  rooms  \\\n",
       "5                10   2890000.0        30.4           2018-09-10      1   \n",
       "22               20   5000000.0        58.0           2017-04-24      2   \n",
       "53                6   3320000.0        36.5           2017-04-14      1   \n",
       "81                3   4500000.0        80.5           2018-01-15      3   \n",
       "104              12   4900000.0        32.0           2018-01-07      1   \n",
       "...             ...         ...         ...                  ...    ...   \n",
       "22830            14   5950000.0        80.3           2018-07-03      3   \n",
       "22845             2   5990000.0        64.0           2017-04-21      2   \n",
       "22850            12   6400000.0        88.0           2018-01-12      4   \n",
       "22860             9   3100000.0        23.0           2018-03-19      1   \n",
       "22868            11   2350000.0        35.6           2016-06-23      1   \n",
       "\n",
       "       ceiling_height  floors_total  living_area  floor  is_apartment  \\\n",
       "5                2.65            12    14.400000      5             0   \n",
       "22               2.75            25    30.000000     15             0   \n",
       "53               2.75            24    14.000000      6             0   \n",
       "81               2.75            25    45.738636     16             0   \n",
       "104              2.75            25    15.000000      5             0   \n",
       "...               ...           ...          ...    ...           ...   \n",
       "22830            2.70            12    45.625000      5             0   \n",
       "22845            2.75            19    31.000000     16             0   \n",
       "22850            2.55            10    50.000000      1             0   \n",
       "22860            2.80             9    12.600000      1             0   \n",
       "22868            2.50             5    17.000000      4             0   \n",
       "\n",
       "       is_studio  is_open_plan  kitchen_area  balcony    locality_name  \\\n",
       "5              0             0      9.100000        0  поселок Янино-1   \n",
       "22             0             0     11.000000        2  деревня Кудрово   \n",
       "53             0             0     12.000000        0  Санкт-Петербург   \n",
       "81             0             0     13.874797        0   поселок Шушары   \n",
       "104            0             0      9.000000        0  Санкт-Петербург   \n",
       "...          ...           ...           ...      ...              ...   \n",
       "22830          0             0     13.840325        0          Колпино   \n",
       "22845          0             0     11.000000        0  Санкт-Петербург   \n",
       "22850          0             0     15.167480        0  Санкт-Петербург   \n",
       "22860          0             0      5.000000        2  Санкт-Петербург   \n",
       "22868          0             0      8.300000        2           Выборг   \n",
       "\n",
       "       airports_nearest  city_center_nearest  parks_around_3000m  \\\n",
       "5                   NaN                  NaN                 NaN   \n",
       "22                  NaN                  NaN                 NaN   \n",
       "53              33331.0              14495.0                 0.0   \n",
       "81              12430.0              18217.0                 0.0   \n",
       "104             52480.0              15598.0                 0.0   \n",
       "...                 ...                  ...                 ...   \n",
       "22830           27933.0              33719.0                 0.0   \n",
       "22845           37636.0              14479.0                 0.0   \n",
       "22850           33642.0              13943.0                 0.0   \n",
       "22860           11813.0              11881.0                 1.0   \n",
       "22868               NaN                  NaN                 NaN   \n",
       "\n",
       "       parks_nearest  ponds_around_3000m  ponds_nearest  days_exposition  \\\n",
       "5                NaN                 NaN            NaN             55.0   \n",
       "22               NaN                 NaN            NaN             60.0   \n",
       "53               NaN                 0.0            NaN             44.0   \n",
       "81               NaN                 0.0            NaN             60.0   \n",
       "104              NaN                 1.0          464.0             60.0   \n",
       "...              ...                 ...            ...              ...   \n",
       "22830            NaN                 2.0          562.0             60.0   \n",
       "22845            NaN                 1.0         1127.0             40.0   \n",
       "22850            NaN                 2.0          844.0             59.0   \n",
       "22860          262.0                 1.0          442.0             41.0   \n",
       "22868            NaN                 NaN            NaN             40.0   \n",
       "\n",
       "       square_meter_price  weekday  month  year floor_type  distance_to_center  \n",
       "5                95065.79        0      9  2018     другой                 NaN  \n",
       "22               86206.90        0      4  2017     другой                 NaN  \n",
       "53               90958.90        4      4  2017     другой                14.0  \n",
       "81               55900.62        0      1  2018     другой                18.0  \n",
       "104             153125.00        6      1  2018     другой                16.0  \n",
       "...                   ...      ...    ...   ...        ...                 ...  \n",
       "22830            74097.14        1      7  2018     другой                34.0  \n",
       "22845            93593.75        4      4  2017     другой                14.0  \n",
       "22850            72727.27        4      1  2018     первый                14.0  \n",
       "22860           134782.61        0      3  2018     первый                12.0  \n",
       "22868            66011.24        3      6  2016     другой                 NaN  \n",
       "\n",
       "[1420 rows x 28 columns]"
      ]
     },
     "execution_count": 52,
     "metadata": {},
     "output_type": "execute_result"
    }
   ],
   "source": [
    "filtered_data = data[(data['days_exposition'].between(40, 45)) | (data['days_exposition'].between(55, 60))]\n",
    "\n",
    "filtered_data"
   ]
  },
  {
   "cell_type": "markdown",
   "metadata": {},
   "source": [
    "**Напишем функцию, которая будет выводить зависимость цены от указанного параметра**"
   ]
  },
  {
   "cell_type": "code",
   "execution_count": 53,
   "metadata": {},
   "outputs": [],
   "source": [
    "def plot_price_dependence(data, parameter, bins=10, diapason=True, corr=True):\n",
    "    \"\"\"\n",
    "    Функция строит график зависимости цены от указанного параметра и выводит корреляцию.\n",
    "\n",
    "    params:\n",
    "    data: pandas DataFrame, данные для анализа\n",
    "    parameter: строка, имя столбца для анализа\n",
    "    bins: количество диапазонов для разбивки параметра (по умолчанию 10)\n",
    "    diapason: True - если необходимо разбить параметр на диапазоны\n",
    "    corr: подсчет корреляции. По умолчанию True\n",
    "    \"\"\"\n",
    "    # Оставим только нужные столбцы для анализа\n",
    "    data_filtered = data[['last_price', parameter]].dropna()\n",
    "    \n",
    "\n",
    "    # Разбиваем на диапазоны (например, 10)\n",
    "    if diapason:\n",
    "        data_filtered['parameter_range'] = pd.cut(data_filtered[parameter], bins=bins)\n",
    "        # Строим сводную таблицу: средняя цена для каждого диапазона параметра\n",
    "        pivot_table = data_filtered.pivot_table(index='parameter_range', values='last_price', aggfunc='mean', observed=False)\n",
    "    else:\n",
    "        pivot_table = data_filtered.pivot_table(index=parameter, values='last_price', aggfunc='mean', observed=False)\n",
    "    \n",
    "    # Построение графика\n",
    "    pivot_table.plot(kind='bar', figsize=(12, 6))\n",
    "    plt.title(f'Средняя цена в зависимости от {parameter}')\n",
    "    plt.xlabel(f'Диапазоны {parameter}')\n",
    "    plt.ylabel('Средняя цена (руб.)')\n",
    "    plt.xticks(rotation=45)\n",
    "    plt.show()\n",
    "\n",
    "    if corr:\n",
    "        # Считаем корреляцию\n",
    "        correlation = data_filtered['last_price'].corr(data_filtered[parameter])\n",
    "        \n",
    "        print(f\"Корреляция между {parameter} и ценой: {correlation:.4f}\")"
   ]
  },
  {
   "cell_type": "markdown",
   "metadata": {},
   "source": [
    "## Зависимость цены от общей площади"
   ]
  },
  {
   "cell_type": "code",
   "execution_count": 54,
   "metadata": {},
   "outputs": [
    {
     "data": {
      "image/png": "[encoded data removed]",
      "text/plain": [
       "<Figure size 864x432 with 1 Axes>"
      ]
     },
     "metadata": {
      "needs_background": "light"
     },
     "output_type": "display_data"
    },
    {
     "name": "stdout",
     "output_type": "stream",
     "text": [
      "Корреляция между total_area и ценой: 0.7346\n"
     ]
    }
   ],
   "source": [
    "plot_price_dependence(standart_df, 'total_area')"
   ]
  },
  {
   "cell_type": "markdown",
   "metadata": {},
   "source": [
    "На гистограмме мы видим, что цена растет в зависимости от общей площади недвижимости"
   ]
  },
  {
   "cell_type": "markdown",
   "metadata": {},
   "source": [
    "## Зависимость цены от жилой площади"
   ]
  },
  {
   "cell_type": "code",
   "execution_count": 55,
   "metadata": {},
   "outputs": [
    {
     "data": {
      "image/png": "[encoded data removed]",
      "text/plain": [
       "<Figure size 864x432 with 1 Axes>"
      ]
     },
     "metadata": {
      "needs_background": "light"
     },
     "output_type": "display_data"
    },
    {
     "name": "stdout",
     "output_type": "stream",
     "text": [
      "Корреляция между living_area и ценой: 0.6321\n"
     ]
    }
   ],
   "source": [
    "plot_price_dependence(standart_df, 'living_area')"
   ]
  },
  {
   "cell_type": "markdown",
   "metadata": {},
   "source": [
    "Средняя цена на недвижимость растет, в зависимости от жилой площади объекта. "
   ]
  },
  {
   "cell_type": "markdown",
   "metadata": {},
   "source": [
    "## Зависимость цены от площади кухни"
   ]
  },
  {
   "cell_type": "code",
   "execution_count": 56,
   "metadata": {},
   "outputs": [
    {
     "data": {
      "image/png": "[encoded data removed]",
      "text/plain": [
       "<Figure size 864x432 with 1 Axes>"
      ]
     },
     "metadata": {
      "needs_background": "light"
     },
     "output_type": "display_data"
    },
    {
     "name": "stdout",
     "output_type": "stream",
     "text": [
      "Корреляция между kitchen_area и ценой: 0.5860\n"
     ]
    }
   ],
   "source": [
    "plot_price_dependence(standart_df, 'kitchen_area')"
   ]
  },
  {
   "cell_type": "markdown",
   "metadata": {},
   "source": [
    "На данной гистограмме также видно зависимость цены от площади кухни"
   ]
  },
  {
   "cell_type": "markdown",
   "metadata": {},
   "source": [
    "## Зависимость цены от количества комнат"
   ]
  },
  {
   "cell_type": "code",
   "execution_count": 57,
   "metadata": {},
   "outputs": [
    {
     "data": {
      "image/png": "[encoded data removed]",
      "text/plain": [
       "<Figure size 864x432 with 1 Axes>"
      ]
     },
     "metadata": {
      "needs_background": "light"
     },
     "output_type": "display_data"
    },
    {
     "name": "stdout",
     "output_type": "stream",
     "text": [
      "Корреляция между rooms и ценой: 0.4363\n"
     ]
    }
   ],
   "source": [
    "plot_price_dependence(standart_df, 'rooms')"
   ]
  },
  {
   "cell_type": "markdown",
   "metadata": {},
   "source": [
    "Количество комнат также влияет на цену недвижимости."
   ]
  },
  {
   "cell_type": "markdown",
   "metadata": {},
   "source": [
    "## Зависимость цены от типа этажа"
   ]
  },
  {
   "cell_type": "code",
   "execution_count": 58,
   "metadata": {},
   "outputs": [
    {
     "data": {
      "image/png": "[encoded data removed]",
      "text/plain": [
       "<Figure size 576x360 with 1 Axes>"
      ]
     },
     "metadata": {
      "needs_background": "light"
     },
     "output_type": "display_data"
    }
   ],
   "source": [
    "plt.figure(figsize=(8, 5))\n",
    "sns.barplot(x='floor_type', y='last_price', data=standart_df, estimator=lambda x: sum(x) / len(x))\n",
    "plt.title('Средняя цена в зависимости от типа этажа')\n",
    "plt.xlabel('Тип этажа')\n",
    "plt.ylabel('Средняя цена (руб.)')\n",
    "plt.xticks(rotation=45)\n",
    "plt.grid(True, linestyle='--', alpha=0.5)\n",
    "\n",
    "plt.show()"
   ]
  },
  {
   "cell_type": "markdown",
   "metadata": {},
   "source": [
    "Как видно, на первом этаже квартиры заметно дешевле, чем на остальных."
   ]
  },
  {
   "cell_type": "markdown",
   "metadata": {},
   "source": [
    "## Зависимость цены от даты размещения (день недели, месяц, год)"
   ]
  },
  {
   "cell_type": "code",
   "execution_count": 59,
   "metadata": {},
   "outputs": [
    {
     "data": {
      "image/png": "[encoded data removed]",
      "text/plain": [
       "<Figure size 864x432 with 1 Axes>"
      ]
     },
     "metadata": {
      "needs_background": "light"
     },
     "output_type": "display_data"
    }
   ],
   "source": [
    "plot_price_dependence(standart_df, 'weekday', diapason=False, corr=False)"
   ]
  },
  {
   "cell_type": "code",
   "execution_count": 60,
   "metadata": {},
   "outputs": [
    {
     "data": {
      "image/png": "[encoded data removed]",
      "text/plain": [
       "<Figure size 864x432 with 1 Axes>"
      ]
     },
     "metadata": {
      "needs_background": "light"
     },
     "output_type": "display_data"
    }
   ],
   "source": [
    "plot_price_dependence(standart_df, 'month', diapason=False, corr=False)"
   ]
  },
  {
   "cell_type": "code",
   "execution_count": 61,
   "metadata": {},
   "outputs": [
    {
     "data": {
      "image/png": "[encoded data removed]",
      "text/plain": [
       "<Figure size 864x432 with 1 Axes>"
      ]
     },
     "metadata": {
      "needs_background": "light"
     },
     "output_type": "display_data"
    }
   ],
   "source": [
    "plot_price_dependence(standart_df, 'year', diapason=False, corr=False)"
   ]
  },
  {
   "cell_type": "markdown",
   "metadata": {},
   "source": [
    "Исходя из данных графиков мы видим, что цена не зависит от дня недели и месяца размещения объявления. В период с 2014 года по 2018 год цена на недвижимость снижалась и снова начала расти с 2019 года."
   ]
  },
  {
   "cell_type": "markdown",
   "metadata": {},
   "source": [
    "## Средняя цена одного квадратного метра в 10 населённых пунктах с наибольшим числом объявлений."
   ]
  },
  {
   "cell_type": "code",
   "execution_count": 62,
   "metadata": {},
   "outputs": [
    {
     "data": {
      "image/png": "[encoded data removed]",
      "text/plain": [
       "<Figure size 864x432 with 1 Axes>"
      ]
     },
     "metadata": {
      "needs_background": "light"
     },
     "output_type": "display_data"
    }
   ],
   "source": [
    "# Создаём сводную таблицу\n",
    "largest_ads = standart_df.pivot_table(\n",
    "    index='locality_name', \n",
    "    values=['square_meter_price', 'last_price'], \n",
    "    aggfunc={'square_meter_price': 'mean', 'last_price': 'count'}\n",
    ")\n",
    "\n",
    "# Переименовываем столбец с количеством объявлений\n",
    "largest_ads = largest_ads.rename(columns={'last_price': 'count_ads'})\n",
    "\n",
    "# Сортируем и выбираем топ-10 населённых пунктов по количеству объявлений\n",
    "largest_ads = largest_ads.sort_values('count_ads', ascending=False).head(10)\n",
    "\n",
    "# Строим барплот\n",
    "plt.figure(figsize=(12, 6))\n",
    "sns.barplot(data=largest_ads.reset_index(), x='locality_name', y='count_ads', palette='Blues_r')\n",
    "\n",
    "# Оформляем график\n",
    "plt.xticks(rotation=45, ha='right')\n",
    "plt.xlabel(\"Населённый пункт\")\n",
    "plt.ylabel(\"Количество объявлений\")\n",
    "plt.title(\"Топ-10 населённых пунктов по количеству объявлений\")\n",
    "plt.grid(axis='y', linestyle='--', alpha=0.7)\n",
    "\n",
    "plt.show()"
   ]
  },
  {
   "cell_type": "markdown",
   "metadata": {},
   "source": [
    "Самая большое количество объявлений в Санкт-Петербурге"
   ]
  },
  {
   "cell_type": "markdown",
   "metadata": {},
   "source": [
    "## Выделим населённые пункты с самой высокой и низкой стоимостью квадратного метра."
   ]
  },
  {
   "cell_type": "code",
   "execution_count": 63,
   "metadata": {},
   "outputs": [
    {
     "name": "stdout",
     "output_type": "stream",
     "text": [
      "Самая высокая средняя цена за квадратный метр в Санкт-Петербург: 112520.66 руб.\n",
      "Самая низкая средняя цена за квадратный метр в Выборг: 58178.61 руб.\n"
     ]
    }
   ],
   "source": [
    "high_price = largest_ads['square_meter_price'].idxmax()\n",
    "low_price = largest_ads['square_meter_price'].idxmin()\n",
    "\n",
    "print(f'Самая высокая средняя цена за квадратный метр в {high_price}: {largest_ads.loc[high_price, \"square_meter_price\"]:.2f} руб.')\n",
    "print(f'Самая низкая средняя цена за квадратный метр в {low_price}: {largest_ads.loc[low_price, \"square_meter_price\"]:.2f} руб.')"
   ]
  },
  {
   "cell_type": "markdown",
   "metadata": {},
   "source": [
    "## Выделим квартиры в Санкт-Петербурге и вычислим их среднюю стоимость на разном удалении от центра."
   ]
  },
  {
   "cell_type": "code",
   "execution_count": 64,
   "metadata": {},
   "outputs": [
    {
     "data": {
      "image/png": "[encoded data removed]",
      "text/plain": [
       "<Figure size 720x360 with 1 Axes>"
      ]
     },
     "metadata": {
      "needs_background": "light"
     },
     "output_type": "display_data"
    }
   ],
   "source": [
    "# Посчитаем среднюю цену для каждого километра\n",
    "spb_flats = standart_df[standart_df['locality_name'] == 'Санкт-Петербург'].pivot_table(index='distance_to_center', values='last_price', aggfunc='mean')\n",
    "# Построим график\n",
    "plt.figure(figsize=(10, 5))\n",
    "plt.plot(spb_flats.index, spb_flats['last_price'], marker='o', linestyle='-')\n",
    "plt.title('Средняя цена квартир в зависимости от расстояния до центра СПб')\n",
    "plt.xlabel('Расстояние до центра (км)')\n",
    "plt.ylabel('Средняя цена (руб.)')\n",
    "plt.grid(True, linestyle='--', alpha=0.5)"
   ]
  },
  {
   "cell_type": "markdown",
   "metadata": {},
   "source": [
    "Самая дорогая недвижимость в Санкт-Петербурге находится в радиусе 7 км от центра города, далее - цена начинает снижаться. Также, есть пики в 20 и 27 км от центра. Возможно, эти квартиры находятся в новых районах города и домах повышенной комфортности. "
   ]
  },
  {
   "cell_type": "markdown",
   "metadata": {},
   "source": [
    "# Вывод"
   ]
  },
  {
   "cell_type": "markdown",
   "metadata": {},
   "source": [
    "Мы провели исследовательский анализ данных, исследовали параметры, обработали редкие и выбивающиеся значения. Изучили, как быстро продавались квартиры и определили факторы, которые больше всего влияют на общую (полную) стоимость объекта. Построили графики зависимости цены, посчитали среднюю цену одного квадратного метра в 10 населённых пунктах с наибольшим числом объявлений и выделили населённые пункты с самой высокой и низкой стоимостью квадратного метра. Вычислили среднюю стоимость недвижимости в Санкт-Петербурге на разном удалении от центра."
   ]
  },
  {
   "cell_type": "markdown",
   "metadata": {
    "id": "h7VpzkIDAwb-"
   },
   "source": [
    "# Общий вывод"
   ]
  },
  {
   "cell_type": "markdown",
   "metadata": {},
   "source": [
    "Мы изучили и проанализировали датасет с архивом объявлений о продаже квартир в Санкт-Петербурге и соседних населённых пунктах за несколько лет. \n",
    "\n",
    "Из проведенного анализа было установленно, что факторами, влияющими на цену недвижимости в Санкт-Петербурге и соседних населённых пунктах являются:\n",
    "1. Общая площадь\n",
    "2. Жилая площадь\n",
    "3. Площадь кухни\n",
    "4. Количество комнат\n",
    "5. Тип этажа\n",
    "\n",
    "Изучив недвижимость, которая находится непостредственно в Санкт-Петербурге, было установленно, что цена зависит не только от вышеперечисленных факторов, но и от расположения относительно центра города. Чем ближе к центру, тем выше цена."
   ]
  },
  {
   "cell_type": "code",
   "execution_count": null,
   "metadata": {},
   "outputs": [],
   "source": []
  }
 ],
 "metadata": {
  "ExecuteTimeLog": [
   {
    "duration": 1061,
    "start_time": "2025-02-14T13:28:52.027Z"
   },
   {
    "duration": 335,
    "start_time": "2025-02-14T13:28:53.090Z"
   },
   {
    "duration": 32,
    "start_time": "2025-02-14T13:28:53.427Z"
   },
   {
    "duration": 14,
    "start_time": "2025-02-14T13:28:53.460Z"
   },
   {
    "duration": 68,
    "start_time": "2025-02-14T13:28:53.475Z"
   },
   {
    "duration": 1893,
    "start_time": "2025-02-14T13:28:53.545Z"
   },
   {
    "duration": 7,
    "start_time": "2025-02-14T13:28:55.440Z"
   },
   {
    "duration": 13,
    "start_time": "2025-02-14T13:28:55.448Z"
   },
   {
    "duration": 6,
    "start_time": "2025-02-14T13:28:55.475Z"
   },
   {
    "duration": 5,
    "start_time": "2025-02-14T13:28:55.483Z"
   },
   {
    "duration": 11,
    "start_time": "2025-02-14T13:28:55.489Z"
   },
   {
    "duration": 4,
    "start_time": "2025-02-14T13:28:55.502Z"
   },
   {
    "duration": 16,
    "start_time": "2025-02-14T13:28:55.507Z"
   },
   {
    "duration": 6,
    "start_time": "2025-02-14T13:28:55.525Z"
   },
   {
    "duration": 127,
    "start_time": "2025-02-14T13:28:55.532Z"
   },
   {
    "duration": 6,
    "start_time": "2025-02-14T13:28:55.660Z"
   },
   {
    "duration": 13,
    "start_time": "2025-02-14T13:28:55.675Z"
   },
   {
    "duration": 44,
    "start_time": "2025-02-14T13:28:55.689Z"
   },
   {
    "duration": 9,
    "start_time": "2025-02-14T13:28:55.735Z"
   },
   {
    "duration": 30,
    "start_time": "2025-02-14T13:28:55.746Z"
   },
   {
    "duration": 6,
    "start_time": "2025-02-14T13:28:55.777Z"
   },
   {
    "duration": 10,
    "start_time": "2025-02-14T13:28:55.784Z"
   },
   {
    "duration": 9,
    "start_time": "2025-02-14T13:28:55.795Z"
   },
   {
    "duration": 7,
    "start_time": "2025-02-14T13:28:55.805Z"
   },
   {
    "duration": 11,
    "start_time": "2025-02-14T13:28:55.813Z"
   },
   {
    "duration": 7,
    "start_time": "2025-02-14T13:28:55.826Z"
   },
   {
    "duration": 54,
    "start_time": "2025-02-14T13:28:55.834Z"
   },
   {
    "duration": 15,
    "start_time": "2025-02-14T13:28:55.889Z"
   },
   {
    "duration": 7,
    "start_time": "2025-02-14T13:28:55.905Z"
   },
   {
    "duration": 36,
    "start_time": "2025-02-14T13:28:55.914Z"
   },
   {
    "duration": 338,
    "start_time": "2025-02-14T13:28:55.952Z"
   },
   {
    "duration": 5,
    "start_time": "2025-02-14T13:28:56.292Z"
   },
   {
    "duration": 25,
    "start_time": "2025-02-14T13:28:56.299Z"
   },
   {
    "duration": 784,
    "start_time": "2025-02-14T13:28:56.326Z"
   },
   {
    "duration": 5,
    "start_time": "2025-02-14T13:28:57.111Z"
   },
   {
    "duration": 893,
    "start_time": "2025-02-14T13:28:57.118Z"
   },
   {
    "duration": 824,
    "start_time": "2025-02-14T13:28:58.013Z"
   },
   {
    "duration": 793,
    "start_time": "2025-02-14T13:28:58.840Z"
   },
   {
    "duration": 12,
    "start_time": "2025-02-14T13:28:59.635Z"
   },
   {
    "duration": 795,
    "start_time": "2025-02-14T13:28:59.648Z"
   },
   {
    "duration": 4,
    "start_time": "2025-02-14T13:29:00.449Z"
   },
   {
    "duration": 804,
    "start_time": "2025-02-14T13:29:00.455Z"
   },
   {
    "duration": 220,
    "start_time": "2025-02-14T13:29:01.260Z"
   },
   {
    "duration": 847,
    "start_time": "2025-02-14T13:29:01.482Z"
   },
   {
    "duration": 21,
    "start_time": "2025-02-14T13:29:02.330Z"
   },
   {
    "duration": 9,
    "start_time": "2025-02-14T13:29:02.352Z"
   },
   {
    "duration": 915,
    "start_time": "2025-02-14T13:29:02.362Z"
   },
   {
    "duration": 638,
    "start_time": "2025-02-14T13:29:03.279Z"
   },
   {
    "duration": 7,
    "start_time": "2025-02-14T13:29:03.919Z"
   },
   {
    "duration": 512,
    "start_time": "2025-02-14T13:29:03.928Z"
   },
   {
    "duration": 5,
    "start_time": "2025-02-14T13:29:04.442Z"
   },
   {
    "duration": 214,
    "start_time": "2025-02-14T13:29:04.448Z"
   },
   {
    "duration": 207,
    "start_time": "2025-02-14T13:29:04.663Z"
   },
   {
    "duration": 207,
    "start_time": "2025-02-14T13:29:04.872Z"
   },
   {
    "duration": 186,
    "start_time": "2025-02-14T13:29:05.081Z"
   },
   {
    "duration": 1913,
    "start_time": "2025-02-14T13:29:05.269Z"
   },
   {
    "duration": 175,
    "start_time": "2025-02-14T13:29:07.183Z"
   },
   {
    "duration": 303,
    "start_time": "2025-02-14T13:29:07.359Z"
   },
   {
    "duration": 170,
    "start_time": "2025-02-14T13:29:07.663Z"
   },
   {
    "duration": 19,
    "start_time": "2025-02-14T13:29:07.835Z"
   },
   {
    "duration": 5,
    "start_time": "2025-02-14T13:29:07.855Z"
   },
   {
    "duration": 181,
    "start_time": "2025-02-14T13:29:07.875Z"
   },
   {
    "duration": 6,
    "start_time": "2025-02-14T13:32:22.519Z"
   },
   {
    "duration": 89,
    "start_time": "2025-02-14T13:33:45.188Z"
   },
   {
    "duration": 1207,
    "start_time": "2025-02-14T20:01:31.316Z"
   },
   {
    "duration": 97,
    "start_time": "2025-02-14T20:01:32.525Z"
   },
   {
    "duration": 33,
    "start_time": "2025-02-14T20:01:32.624Z"
   },
   {
    "duration": 28,
    "start_time": "2025-02-14T20:01:32.659Z"
   },
   {
    "duration": 91,
    "start_time": "2025-02-14T20:01:32.689Z"
   },
   {
    "duration": 2101,
    "start_time": "2025-02-14T20:01:32.782Z"
   },
   {
    "duration": 8,
    "start_time": "2025-02-14T20:01:34.884Z"
   },
   {
    "duration": 20,
    "start_time": "2025-02-14T20:01:34.894Z"
   },
   {
    "duration": 10,
    "start_time": "2025-02-14T20:01:34.916Z"
   },
   {
    "duration": 5,
    "start_time": "2025-02-14T20:01:34.928Z"
   },
   {
    "duration": 9,
    "start_time": "2025-02-14T20:01:34.934Z"
   },
   {
    "duration": 30,
    "start_time": "2025-02-14T20:01:34.944Z"
   },
   {
    "duration": 10,
    "start_time": "2025-02-14T20:01:34.975Z"
   },
   {
    "duration": 7,
    "start_time": "2025-02-14T20:01:34.988Z"
   },
   {
    "duration": 133,
    "start_time": "2025-02-14T20:01:34.996Z"
   },
   {
    "duration": 6,
    "start_time": "2025-02-14T20:01:35.131Z"
   },
   {
    "duration": 15,
    "start_time": "2025-02-14T20:01:35.138Z"
   },
   {
    "duration": 65,
    "start_time": "2025-02-14T20:01:35.154Z"
   },
   {
    "duration": 20,
    "start_time": "2025-02-14T20:01:35.221Z"
   },
   {
    "duration": 6,
    "start_time": "2025-02-14T20:01:35.242Z"
   },
   {
    "duration": 30,
    "start_time": "2025-02-14T20:01:35.250Z"
   },
   {
    "duration": 30,
    "start_time": "2025-02-14T20:01:35.282Z"
   },
   {
    "duration": 14,
    "start_time": "2025-02-14T20:01:35.314Z"
   },
   {
    "duration": 8,
    "start_time": "2025-02-14T20:01:35.329Z"
   },
   {
    "duration": 12,
    "start_time": "2025-02-14T20:01:35.338Z"
   },
   {
    "duration": 8,
    "start_time": "2025-02-14T20:01:35.352Z"
   },
   {
    "duration": 22,
    "start_time": "2025-02-14T20:01:35.362Z"
   },
   {
    "duration": 13,
    "start_time": "2025-02-14T20:01:35.386Z"
   },
   {
    "duration": 5,
    "start_time": "2025-02-14T20:01:35.401Z"
   },
   {
    "duration": 59,
    "start_time": "2025-02-14T20:01:35.408Z"
   },
   {
    "duration": 336,
    "start_time": "2025-02-14T20:01:35.469Z"
   },
   {
    "duration": 5,
    "start_time": "2025-02-14T20:01:35.807Z"
   },
   {
    "duration": 23,
    "start_time": "2025-02-14T20:01:35.813Z"
   },
   {
    "duration": 815,
    "start_time": "2025-02-14T20:01:35.837Z"
   },
   {
    "duration": 6,
    "start_time": "2025-02-14T20:01:36.654Z"
   },
   {
    "duration": 1032,
    "start_time": "2025-02-14T20:01:36.661Z"
   },
   {
    "duration": 862,
    "start_time": "2025-02-14T20:01:37.695Z"
   },
   {
    "duration": 835,
    "start_time": "2025-02-14T20:01:38.559Z"
   },
   {
    "duration": 11,
    "start_time": "2025-02-14T20:01:39.396Z"
   },
   {
    "duration": 935,
    "start_time": "2025-02-14T20:01:39.409Z"
   },
   {
    "duration": 4,
    "start_time": "2025-02-14T20:01:40.349Z"
   },
   {
    "duration": 1011,
    "start_time": "2025-02-14T20:01:40.355Z"
   },
   {
    "duration": 215,
    "start_time": "2025-02-14T20:01:41.372Z"
   },
   {
    "duration": 989,
    "start_time": "2025-02-14T20:01:41.589Z"
   },
   {
    "duration": 23,
    "start_time": "2025-02-14T20:01:42.580Z"
   },
   {
    "duration": 32,
    "start_time": "2025-02-14T20:01:42.604Z"
   },
   {
    "duration": 926,
    "start_time": "2025-02-14T20:01:42.638Z"
   },
   {
    "duration": 622,
    "start_time": "2025-02-14T20:01:43.566Z"
   },
   {
    "duration": 7,
    "start_time": "2025-02-14T20:01:44.190Z"
   },
   {
    "duration": 578,
    "start_time": "2025-02-14T20:01:44.199Z"
   },
   {
    "duration": 391,
    "start_time": "2025-02-14T20:01:44.779Z"
   },
   {
    "duration": 49,
    "start_time": "2025-02-14T20:01:45.172Z"
   },
   {
    "duration": 7,
    "start_time": "2025-02-14T20:01:45.223Z"
   },
   {
    "duration": 247,
    "start_time": "2025-02-14T20:01:45.232Z"
   },
   {
    "duration": 248,
    "start_time": "2025-02-14T20:01:45.481Z"
   },
   {
    "duration": 245,
    "start_time": "2025-02-14T20:01:45.731Z"
   },
   {
    "duration": 320,
    "start_time": "2025-02-14T20:01:45.979Z"
   },
   {
    "duration": 2296,
    "start_time": "2025-02-14T20:01:46.300Z"
   },
   {
    "duration": 288,
    "start_time": "2025-02-14T20:01:48.598Z"
   },
   {
    "duration": 269,
    "start_time": "2025-02-14T20:01:48.888Z"
   },
   {
    "duration": 186,
    "start_time": "2025-02-14T20:01:49.159Z"
   },
   {
    "duration": 249,
    "start_time": "2025-02-14T20:01:49.347Z"
   },
   {
    "duration": 5,
    "start_time": "2025-02-14T20:01:49.598Z"
   },
   {
    "duration": 204,
    "start_time": "2025-02-14T20:01:49.605Z"
   }
  ],
  "colab": {
   "provenance": []
  },
  "kernelspec": {
   "display_name": "Python 3 (ipykernel)",
   "language": "python",
   "name": "python3"
  },
  "language_info": {
   "codemirror_mode": {
    "name": "ipython",
    "version": 3
   },
   "file_extension": ".py",
   "mimetype": "text/x-python",
   "name": "python",
   "nbconvert_exporter": "python",
   "pygments_lexer": "ipython3",
   "version": "3.9.5"
  },
  "toc": {
   "base_numbering": 1,
   "nav_menu": {},
   "number_sections": true,
   "sideBar": true,
   "skip_h1_title": true,
   "title_cell": "Table of Contents",
   "title_sidebar": "Contents",
   "toc_cell": false,
   "toc_position": {},
   "toc_section_display": true,
   "toc_window_display": false
  }
 },
 "nbformat": 4,
 "nbformat_minor": 4
}
